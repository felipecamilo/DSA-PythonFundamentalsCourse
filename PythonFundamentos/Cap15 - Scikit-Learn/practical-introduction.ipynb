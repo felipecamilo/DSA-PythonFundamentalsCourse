{
 "cells": [
  {
   "cell_type": "code",
   "execution_count": 3,
   "id": "de21d10d",
   "metadata": {},
   "outputs": [],
   "source": [
    "# import\n",
    "\n",
    "import numpy as np\n",
    "import pandas as pd\n",
    "import matplotlib.pyplot as plt\n",
    "import seaborn as sns\n",
    "import sklearn as sk\n",
    "\n",
    "from sklearn.linear_model import LinearRegression\n",
    "from sklearn.model_selection import cross_val_score"
   ]
  },
  {
   "cell_type": "code",
   "execution_count": 4,
   "id": "7406aba8",
   "metadata": {},
   "outputs": [
    {
     "data": {
      "text/plain": [
       "['calibration',\n",
       " 'cluster',\n",
       " 'covariance',\n",
       " 'cross_decomposition',\n",
       " 'datasets',\n",
       " 'decomposition',\n",
       " 'dummy',\n",
       " 'ensemble',\n",
       " 'exceptions',\n",
       " 'experimental',\n",
       " 'externals',\n",
       " 'feature_extraction',\n",
       " 'feature_selection',\n",
       " 'gaussian_process',\n",
       " 'inspection',\n",
       " 'isotonic',\n",
       " 'kernel_approximation',\n",
       " 'kernel_ridge',\n",
       " 'linear_model',\n",
       " 'manifold',\n",
       " 'metrics',\n",
       " 'mixture',\n",
       " 'model_selection',\n",
       " 'multiclass',\n",
       " 'multioutput',\n",
       " 'naive_bayes',\n",
       " 'neighbors',\n",
       " 'neural_network',\n",
       " 'pipeline',\n",
       " 'preprocessing',\n",
       " 'random_projection',\n",
       " 'semi_supervised',\n",
       " 'svm',\n",
       " 'tree',\n",
       " 'discriminant_analysis',\n",
       " 'impute',\n",
       " 'compose',\n",
       " 'clone',\n",
       " 'get_config',\n",
       " 'set_config',\n",
       " 'config_context',\n",
       " 'show_versions']"
      ]
     },
     "execution_count": 4,
     "metadata": {},
     "output_type": "execute_result"
    }
   ],
   "source": [
    "sk.__all__"
   ]
  },
  {
   "cell_type": "code",
   "execution_count": 5,
   "id": "695f662d",
   "metadata": {},
   "outputs": [
    {
     "ename": "TypeError",
     "evalue": "cross_val_score() missing 2 required positional arguments: 'estimator' and 'X'",
     "output_type": "error",
     "traceback": [
      "\u001b[1;31m---------------------------------------------------------------------------\u001b[0m",
      "\u001b[1;31mTypeError\u001b[0m                                 Traceback (most recent call last)",
      "\u001b[1;32m~\\AppData\\Local\\Temp\\ipykernel_3600\\4229411344.py\u001b[0m in \u001b[0;36m<module>\u001b[1;34m\u001b[0m\n\u001b[1;32m----> 1\u001b[1;33m \u001b[0msk\u001b[0m\u001b[1;33m.\u001b[0m\u001b[0mmodel_selection\u001b[0m\u001b[1;33m.\u001b[0m\u001b[0mcross_val_score\u001b[0m\u001b[1;33m(\u001b[0m\u001b[1;33m)\u001b[0m\u001b[1;33m\u001b[0m\u001b[1;33m\u001b[0m\u001b[0m\n\u001b[0m",
      "\u001b[1;31mTypeError\u001b[0m: cross_val_score() missing 2 required positional arguments: 'estimator' and 'X'"
     ]
    }
   ],
   "source": [
    "sk.model_selection.cross_validate()"
   ]
  },
  {
   "cell_type": "code",
   "execution_count": 6,
   "id": "7a16cc74",
   "metadata": {},
   "outputs": [],
   "source": [
    "df = pd.read_csv(\"dataset.csv\")"
   ]
  },
  {
   "cell_type": "code",
   "execution_count": 8,
   "id": "10b4f001",
   "metadata": {},
   "outputs": [
    {
     "data": {
      "text/plain": [
       "(500, 2)"
      ]
     },
     "execution_count": 8,
     "metadata": {},
     "output_type": "execute_result"
    }
   ],
   "source": [
    "df.shape"
   ]
  },
  {
   "cell_type": "code",
   "execution_count": 9,
   "id": "de911b56",
   "metadata": {},
   "outputs": [
    {
     "data": {
      "text/plain": [
       "Index(['horas_estudo_mes', 'salario'], dtype='object')"
      ]
     },
     "execution_count": 9,
     "metadata": {},
     "output_type": "execute_result"
    }
   ],
   "source": [
    "df.columns"
   ]
  },
  {
   "cell_type": "code",
   "execution_count": 10,
   "id": "bca1e7e5",
   "metadata": {},
   "outputs": [
    {
     "data": {
      "text/html": [
       "<div>\n",
       "<style scoped>\n",
       "    .dataframe tbody tr th:only-of-type {\n",
       "        vertical-align: middle;\n",
       "    }\n",
       "\n",
       "    .dataframe tbody tr th {\n",
       "        vertical-align: top;\n",
       "    }\n",
       "\n",
       "    .dataframe thead th {\n",
       "        text-align: right;\n",
       "    }\n",
       "</style>\n",
       "<table border=\"1\" class=\"dataframe\">\n",
       "  <thead>\n",
       "    <tr style=\"text-align: right;\">\n",
       "      <th></th>\n",
       "      <th>horas_estudo_mes</th>\n",
       "      <th>salario</th>\n",
       "    </tr>\n",
       "  </thead>\n",
       "  <tbody>\n",
       "    <tr>\n",
       "      <th>0</th>\n",
       "      <td>57.0</td>\n",
       "      <td>6813.0</td>\n",
       "    </tr>\n",
       "    <tr>\n",
       "      <th>1</th>\n",
       "      <td>48.0</td>\n",
       "      <td>6855.0</td>\n",
       "    </tr>\n",
       "    <tr>\n",
       "      <th>2</th>\n",
       "      <td>60.0</td>\n",
       "      <td>5801.0</td>\n",
       "    </tr>\n",
       "    <tr>\n",
       "      <th>3</th>\n",
       "      <td>73.0</td>\n",
       "      <td>7431.0</td>\n",
       "    </tr>\n",
       "    <tr>\n",
       "      <th>4</th>\n",
       "      <td>46.0</td>\n",
       "      <td>5475.0</td>\n",
       "    </tr>\n",
       "    <tr>\n",
       "      <th>...</th>\n",
       "      <td>...</td>\n",
       "      <td>...</td>\n",
       "    </tr>\n",
       "    <tr>\n",
       "      <th>495</th>\n",
       "      <td>58.0</td>\n",
       "      <td>6259.0</td>\n",
       "    </tr>\n",
       "    <tr>\n",
       "      <th>496</th>\n",
       "      <td>34.0</td>\n",
       "      <td>6099.0</td>\n",
       "    </tr>\n",
       "    <tr>\n",
       "      <th>497</th>\n",
       "      <td>47.0</td>\n",
       "      <td>6170.0</td>\n",
       "    </tr>\n",
       "    <tr>\n",
       "      <th>498</th>\n",
       "      <td>37.0</td>\n",
       "      <td>5064.0</td>\n",
       "    </tr>\n",
       "    <tr>\n",
       "      <th>499</th>\n",
       "      <td>29.0</td>\n",
       "      <td>5236.0</td>\n",
       "    </tr>\n",
       "  </tbody>\n",
       "</table>\n",
       "<p>500 rows × 2 columns</p>\n",
       "</div>"
      ],
      "text/plain": [
       "     horas_estudo_mes  salario\n",
       "0                57.0   6813.0\n",
       "1                48.0   6855.0\n",
       "2                60.0   5801.0\n",
       "3                73.0   7431.0\n",
       "4                46.0   5475.0\n",
       "..                ...      ...\n",
       "495              58.0   6259.0\n",
       "496              34.0   6099.0\n",
       "497              47.0   6170.0\n",
       "498              37.0   5064.0\n",
       "499              29.0   5236.0\n",
       "\n",
       "[500 rows x 2 columns]"
      ]
     },
     "execution_count": 10,
     "metadata": {},
     "output_type": "execute_result"
    }
   ],
   "source": [
    "df"
   ]
  },
  {
   "cell_type": "code",
   "execution_count": 11,
   "id": "0c040eec",
   "metadata": {},
   "outputs": [
    {
     "name": "stdout",
     "output_type": "stream",
     "text": [
      "<class 'pandas.core.frame.DataFrame'>\n",
      "RangeIndex: 500 entries, 0 to 499\n",
      "Data columns (total 2 columns):\n",
      " #   Column            Non-Null Count  Dtype  \n",
      "---  ------            --------------  -----  \n",
      " 0   horas_estudo_mes  500 non-null    float64\n",
      " 1   salario           500 non-null    float64\n",
      "dtypes: float64(2)\n",
      "memory usage: 7.9 KB\n"
     ]
    }
   ],
   "source": [
    "df.info()"
   ]
  },
  {
   "cell_type": "code",
   "execution_count": 13,
   "id": "5e17ab60",
   "metadata": {},
   "outputs": [],
   "source": [
    "kf = sk.model_selection.KFold(n_splits = 5)"
   ]
  },
  {
   "cell_type": "code",
   "execution_count": 16,
   "id": "814c0207",
   "metadata": {},
   "outputs": [],
   "source": [
    "divisao = kf.split(df)"
   ]
  },
  {
   "cell_type": "code",
   "execution_count": 18,
   "id": "1acbe34c",
   "metadata": {},
   "outputs": [
    {
     "name": "stdout",
     "output_type": "stream",
     "text": [
      "[100 101 102 103 104 105 106 107 108 109 110 111 112 113 114 115 116 117\n",
      " 118 119 120 121 122 123 124 125 126 127 128 129 130 131 132 133 134 135\n",
      " 136 137 138 139 140 141 142 143 144 145 146 147 148 149 150 151 152 153\n",
      " 154 155 156 157 158 159 160 161 162 163 164 165 166 167 168 169 170 171\n",
      " 172 173 174 175 176 177 178 179 180 181 182 183 184 185 186 187 188 189\n",
      " 190 191 192 193 194 195 196 197 198 199 200 201 202 203 204 205 206 207\n",
      " 208 209 210 211 212 213 214 215 216 217 218 219 220 221 222 223 224 225\n",
      " 226 227 228 229 230 231 232 233 234 235 236 237 238 239 240 241 242 243\n",
      " 244 245 246 247 248 249 250 251 252 253 254 255 256 257 258 259 260 261\n",
      " 262 263 264 265 266 267 268 269 270 271 272 273 274 275 276 277 278 279\n",
      " 280 281 282 283 284 285 286 287 288 289 290 291 292 293 294 295 296 297\n",
      " 298 299 300 301 302 303 304 305 306 307 308 309 310 311 312 313 314 315\n",
      " 316 317 318 319 320 321 322 323 324 325 326 327 328 329 330 331 332 333\n",
      " 334 335 336 337 338 339 340 341 342 343 344 345 346 347 348 349 350 351\n",
      " 352 353 354 355 356 357 358 359 360 361 362 363 364 365 366 367 368 369\n",
      " 370 371 372 373 374 375 376 377 378 379 380 381 382 383 384 385 386 387\n",
      " 388 389 390 391 392 393 394 395 396 397 398 399 400 401 402 403 404 405\n",
      " 406 407 408 409 410 411 412 413 414 415 416 417 418 419 420 421 422 423\n",
      " 424 425 426 427 428 429 430 431 432 433 434 435 436 437 438 439 440 441\n",
      " 442 443 444 445 446 447 448 449 450 451 452 453 454 455 456 457 458 459\n",
      " 460 461 462 463 464 465 466 467 468 469 470 471 472 473 474 475 476 477\n",
      " 478 479 480 481 482 483 484 485 486 487 488 489 490 491 492 493 494 495\n",
      " 496 497 498 499] [ 0  1  2  3  4  5  6  7  8  9 10 11 12 13 14 15 16 17 18 19 20 21 22 23\n",
      " 24 25 26 27 28 29 30 31 32 33 34 35 36 37 38 39 40 41 42 43 44 45 46 47\n",
      " 48 49 50 51 52 53 54 55 56 57 58 59 60 61 62 63 64 65 66 67 68 69 70 71\n",
      " 72 73 74 75 76 77 78 79 80 81 82 83 84 85 86 87 88 89 90 91 92 93 94 95\n",
      " 96 97 98 99]\n",
      "[  0   1   2   3   4   5   6   7   8   9  10  11  12  13  14  15  16  17\n",
      "  18  19  20  21  22  23  24  25  26  27  28  29  30  31  32  33  34  35\n",
      "  36  37  38  39  40  41  42  43  44  45  46  47  48  49  50  51  52  53\n",
      "  54  55  56  57  58  59  60  61  62  63  64  65  66  67  68  69  70  71\n",
      "  72  73  74  75  76  77  78  79  80  81  82  83  84  85  86  87  88  89\n",
      "  90  91  92  93  94  95  96  97  98  99 200 201 202 203 204 205 206 207\n",
      " 208 209 210 211 212 213 214 215 216 217 218 219 220 221 222 223 224 225\n",
      " 226 227 228 229 230 231 232 233 234 235 236 237 238 239 240 241 242 243\n",
      " 244 245 246 247 248 249 250 251 252 253 254 255 256 257 258 259 260 261\n",
      " 262 263 264 265 266 267 268 269 270 271 272 273 274 275 276 277 278 279\n",
      " 280 281 282 283 284 285 286 287 288 289 290 291 292 293 294 295 296 297\n",
      " 298 299 300 301 302 303 304 305 306 307 308 309 310 311 312 313 314 315\n",
      " 316 317 318 319 320 321 322 323 324 325 326 327 328 329 330 331 332 333\n",
      " 334 335 336 337 338 339 340 341 342 343 344 345 346 347 348 349 350 351\n",
      " 352 353 354 355 356 357 358 359 360 361 362 363 364 365 366 367 368 369\n",
      " 370 371 372 373 374 375 376 377 378 379 380 381 382 383 384 385 386 387\n",
      " 388 389 390 391 392 393 394 395 396 397 398 399 400 401 402 403 404 405\n",
      " 406 407 408 409 410 411 412 413 414 415 416 417 418 419 420 421 422 423\n",
      " 424 425 426 427 428 429 430 431 432 433 434 435 436 437 438 439 440 441\n",
      " 442 443 444 445 446 447 448 449 450 451 452 453 454 455 456 457 458 459\n",
      " 460 461 462 463 464 465 466 467 468 469 470 471 472 473 474 475 476 477\n",
      " 478 479 480 481 482 483 484 485 486 487 488 489 490 491 492 493 494 495\n",
      " 496 497 498 499] [100 101 102 103 104 105 106 107 108 109 110 111 112 113 114 115 116 117\n",
      " 118 119 120 121 122 123 124 125 126 127 128 129 130 131 132 133 134 135\n",
      " 136 137 138 139 140 141 142 143 144 145 146 147 148 149 150 151 152 153\n",
      " 154 155 156 157 158 159 160 161 162 163 164 165 166 167 168 169 170 171\n",
      " 172 173 174 175 176 177 178 179 180 181 182 183 184 185 186 187 188 189\n",
      " 190 191 192 193 194 195 196 197 198 199]\n",
      "[  0   1   2   3   4   5   6   7   8   9  10  11  12  13  14  15  16  17\n",
      "  18  19  20  21  22  23  24  25  26  27  28  29  30  31  32  33  34  35\n",
      "  36  37  38  39  40  41  42  43  44  45  46  47  48  49  50  51  52  53\n",
      "  54  55  56  57  58  59  60  61  62  63  64  65  66  67  68  69  70  71\n",
      "  72  73  74  75  76  77  78  79  80  81  82  83  84  85  86  87  88  89\n",
      "  90  91  92  93  94  95  96  97  98  99 100 101 102 103 104 105 106 107\n",
      " 108 109 110 111 112 113 114 115 116 117 118 119 120 121 122 123 124 125\n",
      " 126 127 128 129 130 131 132 133 134 135 136 137 138 139 140 141 142 143\n",
      " 144 145 146 147 148 149 150 151 152 153 154 155 156 157 158 159 160 161\n",
      " 162 163 164 165 166 167 168 169 170 171 172 173 174 175 176 177 178 179\n",
      " 180 181 182 183 184 185 186 187 188 189 190 191 192 193 194 195 196 197\n",
      " 198 199 300 301 302 303 304 305 306 307 308 309 310 311 312 313 314 315\n",
      " 316 317 318 319 320 321 322 323 324 325 326 327 328 329 330 331 332 333\n",
      " 334 335 336 337 338 339 340 341 342 343 344 345 346 347 348 349 350 351\n",
      " 352 353 354 355 356 357 358 359 360 361 362 363 364 365 366 367 368 369\n",
      " 370 371 372 373 374 375 376 377 378 379 380 381 382 383 384 385 386 387\n",
      " 388 389 390 391 392 393 394 395 396 397 398 399 400 401 402 403 404 405\n",
      " 406 407 408 409 410 411 412 413 414 415 416 417 418 419 420 421 422 423\n",
      " 424 425 426 427 428 429 430 431 432 433 434 435 436 437 438 439 440 441\n",
      " 442 443 444 445 446 447 448 449 450 451 452 453 454 455 456 457 458 459\n",
      " 460 461 462 463 464 465 466 467 468 469 470 471 472 473 474 475 476 477\n",
      " 478 479 480 481 482 483 484 485 486 487 488 489 490 491 492 493 494 495\n",
      " 496 497 498 499] [200 201 202 203 204 205 206 207 208 209 210 211 212 213 214 215 216 217\n",
      " 218 219 220 221 222 223 224 225 226 227 228 229 230 231 232 233 234 235\n",
      " 236 237 238 239 240 241 242 243 244 245 246 247 248 249 250 251 252 253\n",
      " 254 255 256 257 258 259 260 261 262 263 264 265 266 267 268 269 270 271\n",
      " 272 273 274 275 276 277 278 279 280 281 282 283 284 285 286 287 288 289\n",
      " 290 291 292 293 294 295 296 297 298 299]\n",
      "[  0   1   2   3   4   5   6   7   8   9  10  11  12  13  14  15  16  17\n",
      "  18  19  20  21  22  23  24  25  26  27  28  29  30  31  32  33  34  35\n",
      "  36  37  38  39  40  41  42  43  44  45  46  47  48  49  50  51  52  53\n",
      "  54  55  56  57  58  59  60  61  62  63  64  65  66  67  68  69  70  71\n",
      "  72  73  74  75  76  77  78  79  80  81  82  83  84  85  86  87  88  89\n",
      "  90  91  92  93  94  95  96  97  98  99 100 101 102 103 104 105 106 107\n",
      " 108 109 110 111 112 113 114 115 116 117 118 119 120 121 122 123 124 125\n",
      " 126 127 128 129 130 131 132 133 134 135 136 137 138 139 140 141 142 143\n",
      " 144 145 146 147 148 149 150 151 152 153 154 155 156 157 158 159 160 161\n",
      " 162 163 164 165 166 167 168 169 170 171 172 173 174 175 176 177 178 179\n",
      " 180 181 182 183 184 185 186 187 188 189 190 191 192 193 194 195 196 197\n",
      " 198 199 200 201 202 203 204 205 206 207 208 209 210 211 212 213 214 215\n",
      " 216 217 218 219 220 221 222 223 224 225 226 227 228 229 230 231 232 233\n",
      " 234 235 236 237 238 239 240 241 242 243 244 245 246 247 248 249 250 251\n",
      " 252 253 254 255 256 257 258 259 260 261 262 263 264 265 266 267 268 269\n",
      " 270 271 272 273 274 275 276 277 278 279 280 281 282 283 284 285 286 287\n",
      " 288 289 290 291 292 293 294 295 296 297 298 299 400 401 402 403 404 405\n",
      " 406 407 408 409 410 411 412 413 414 415 416 417 418 419 420 421 422 423\n",
      " 424 425 426 427 428 429 430 431 432 433 434 435 436 437 438 439 440 441\n",
      " 442 443 444 445 446 447 448 449 450 451 452 453 454 455 456 457 458 459\n",
      " 460 461 462 463 464 465 466 467 468 469 470 471 472 473 474 475 476 477\n",
      " 478 479 480 481 482 483 484 485 486 487 488 489 490 491 492 493 494 495\n",
      " 496 497 498 499] [300 301 302 303 304 305 306 307 308 309 310 311 312 313 314 315 316 317\n",
      " 318 319 320 321 322 323 324 325 326 327 328 329 330 331 332 333 334 335\n",
      " 336 337 338 339 340 341 342 343 344 345 346 347 348 349 350 351 352 353\n",
      " 354 355 356 357 358 359 360 361 362 363 364 365 366 367 368 369 370 371\n",
      " 372 373 374 375 376 377 378 379 380 381 382 383 384 385 386 387 388 389\n",
      " 390 391 392 393 394 395 396 397 398 399]\n",
      "[  0   1   2   3   4   5   6   7   8   9  10  11  12  13  14  15  16  17\n",
      "  18  19  20  21  22  23  24  25  26  27  28  29  30  31  32  33  34  35\n",
      "  36  37  38  39  40  41  42  43  44  45  46  47  48  49  50  51  52  53\n",
      "  54  55  56  57  58  59  60  61  62  63  64  65  66  67  68  69  70  71\n",
      "  72  73  74  75  76  77  78  79  80  81  82  83  84  85  86  87  88  89\n",
      "  90  91  92  93  94  95  96  97  98  99 100 101 102 103 104 105 106 107\n",
      " 108 109 110 111 112 113 114 115 116 117 118 119 120 121 122 123 124 125\n",
      " 126 127 128 129 130 131 132 133 134 135 136 137 138 139 140 141 142 143\n",
      " 144 145 146 147 148 149 150 151 152 153 154 155 156 157 158 159 160 161\n",
      " 162 163 164 165 166 167 168 169 170 171 172 173 174 175 176 177 178 179\n",
      " 180 181 182 183 184 185 186 187 188 189 190 191 192 193 194 195 196 197\n",
      " 198 199 200 201 202 203 204 205 206 207 208 209 210 211 212 213 214 215\n",
      " 216 217 218 219 220 221 222 223 224 225 226 227 228 229 230 231 232 233\n",
      " 234 235 236 237 238 239 240 241 242 243 244 245 246 247 248 249 250 251\n",
      " 252 253 254 255 256 257 258 259 260 261 262 263 264 265 266 267 268 269\n",
      " 270 271 272 273 274 275 276 277 278 279 280 281 282 283 284 285 286 287\n",
      " 288 289 290 291 292 293 294 295 296 297 298 299 300 301 302 303 304 305\n",
      " 306 307 308 309 310 311 312 313 314 315 316 317 318 319 320 321 322 323\n",
      " 324 325 326 327 328 329 330 331 332 333 334 335 336 337 338 339 340 341\n",
      " 342 343 344 345 346 347 348 349 350 351 352 353 354 355 356 357 358 359\n",
      " 360 361 362 363 364 365 366 367 368 369 370 371 372 373 374 375 376 377\n",
      " 378 379 380 381 382 383 384 385 386 387 388 389 390 391 392 393 394 395\n",
      " 396 397 398 399] [400 401 402 403 404 405 406 407 408 409 410 411 412 413 414 415 416 417\n",
      " 418 419 420 421 422 423 424 425 426 427 428 429 430 431 432 433 434 435\n",
      " 436 437 438 439 440 441 442 443 444 445 446 447 448 449 450 451 452 453\n",
      " 454 455 456 457 458 459 460 461 462 463 464 465 466 467 468 469 470 471\n",
      " 472 473 474 475 476 477 478 479 480 481 482 483 484 485 486 487 488 489\n",
      " 490 491 492 493 494 495 496 497 498 499]\n"
     ]
    }
   ],
   "source": [
    "for train, test in divisao:\n",
    "    print(\"%s %s\" % (train, test))\n",
    "\n",
    "# i could use each train test split to evaluate a confusion matrix, for instance"
   ]
  },
  {
   "cell_type": "code",
   "execution_count": 22,
   "id": "4dca8fc8",
   "metadata": {
    "scrolled": true
   },
   "outputs": [
    {
     "data": {
      "text/plain": [
       "horas_estudo_mes    0\n",
       "salario             0\n",
       "dtype: int64"
      ]
     },
     "execution_count": 22,
     "metadata": {},
     "output_type": "execute_result"
    }
   ],
   "source": [
    "df.isnull().sum()"
   ]
  },
  {
   "cell_type": "code",
   "execution_count": 23,
   "id": "0065cb8f",
   "metadata": {
    "scrolled": false
   },
   "outputs": [
    {
     "data": {
      "text/html": [
       "<div>\n",
       "<style scoped>\n",
       "    .dataframe tbody tr th:only-of-type {\n",
       "        vertical-align: middle;\n",
       "    }\n",
       "\n",
       "    .dataframe tbody tr th {\n",
       "        vertical-align: top;\n",
       "    }\n",
       "\n",
       "    .dataframe thead th {\n",
       "        text-align: right;\n",
       "    }\n",
       "</style>\n",
       "<table border=\"1\" class=\"dataframe\">\n",
       "  <thead>\n",
       "    <tr style=\"text-align: right;\">\n",
       "      <th></th>\n",
       "      <th>horas_estudo_mes</th>\n",
       "      <th>salario</th>\n",
       "    </tr>\n",
       "  </thead>\n",
       "  <tbody>\n",
       "    <tr>\n",
       "      <th>horas_estudo_mes</th>\n",
       "      <td>1.000000</td>\n",
       "      <td>0.818576</td>\n",
       "    </tr>\n",
       "    <tr>\n",
       "      <th>salario</th>\n",
       "      <td>0.818576</td>\n",
       "      <td>1.000000</td>\n",
       "    </tr>\n",
       "  </tbody>\n",
       "</table>\n",
       "</div>"
      ],
      "text/plain": [
       "                  horas_estudo_mes   salario\n",
       "horas_estudo_mes          1.000000  0.818576\n",
       "salario                   0.818576  1.000000"
      ]
     },
     "execution_count": 23,
     "metadata": {},
     "output_type": "execute_result"
    }
   ],
   "source": [
    "#Correlação\n",
    "df.corr()"
   ]
  },
  {
   "cell_type": "code",
   "execution_count": 24,
   "id": "17736806",
   "metadata": {
    "scrolled": false
   },
   "outputs": [
    {
     "data": {
      "text/html": [
       "<div>\n",
       "<style scoped>\n",
       "    .dataframe tbody tr th:only-of-type {\n",
       "        vertical-align: middle;\n",
       "    }\n",
       "\n",
       "    .dataframe tbody tr th {\n",
       "        vertical-align: top;\n",
       "    }\n",
       "\n",
       "    .dataframe thead th {\n",
       "        text-align: right;\n",
       "    }\n",
       "</style>\n",
       "<table border=\"1\" class=\"dataframe\">\n",
       "  <thead>\n",
       "    <tr style=\"text-align: right;\">\n",
       "      <th></th>\n",
       "      <th>horas_estudo_mes</th>\n",
       "      <th>salario</th>\n",
       "    </tr>\n",
       "  </thead>\n",
       "  <tbody>\n",
       "    <tr>\n",
       "      <th>horas_estudo_mes</th>\n",
       "      <td>214.898196</td>\n",
       "      <td>10184.232665</td>\n",
       "    </tr>\n",
       "    <tr>\n",
       "      <th>salario</th>\n",
       "      <td>10184.232665</td>\n",
       "      <td>720288.045190</td>\n",
       "    </tr>\n",
       "  </tbody>\n",
       "</table>\n",
       "</div>"
      ],
      "text/plain": [
       "                  horas_estudo_mes        salario\n",
       "horas_estudo_mes        214.898196   10184.232665\n",
       "salario               10184.232665  720288.045190"
      ]
     },
     "execution_count": 24,
     "metadata": {},
     "output_type": "execute_result"
    }
   ],
   "source": [
    "df.cov()"
   ]
  },
  {
   "cell_type": "code",
   "execution_count": 25,
   "id": "2a9ab5c8",
   "metadata": {
    "scrolled": true
   },
   "outputs": [
    {
     "data": {
      "text/html": [
       "<div>\n",
       "<style scoped>\n",
       "    .dataframe tbody tr th:only-of-type {\n",
       "        vertical-align: middle;\n",
       "    }\n",
       "\n",
       "    .dataframe tbody tr th {\n",
       "        vertical-align: top;\n",
       "    }\n",
       "\n",
       "    .dataframe thead th {\n",
       "        text-align: right;\n",
       "    }\n",
       "</style>\n",
       "<table border=\"1\" class=\"dataframe\">\n",
       "  <thead>\n",
       "    <tr style=\"text-align: right;\">\n",
       "      <th></th>\n",
       "      <th>horas_estudo_mes</th>\n",
       "      <th>salario</th>\n",
       "    </tr>\n",
       "  </thead>\n",
       "  <tbody>\n",
       "    <tr>\n",
       "      <th>count</th>\n",
       "      <td>500.000000</td>\n",
       "      <td>500.000000</td>\n",
       "    </tr>\n",
       "    <tr>\n",
       "      <th>mean</th>\n",
       "      <td>50.060000</td>\n",
       "      <td>6018.930000</td>\n",
       "    </tr>\n",
       "    <tr>\n",
       "      <th>std</th>\n",
       "      <td>14.659406</td>\n",
       "      <td>848.697853</td>\n",
       "    </tr>\n",
       "    <tr>\n",
       "      <th>min</th>\n",
       "      <td>1.000000</td>\n",
       "      <td>3664.000000</td>\n",
       "    </tr>\n",
       "    <tr>\n",
       "      <th>25%</th>\n",
       "      <td>39.750000</td>\n",
       "      <td>5473.000000</td>\n",
       "    </tr>\n",
       "    <tr>\n",
       "      <th>50%</th>\n",
       "      <td>50.000000</td>\n",
       "      <td>6013.500000</td>\n",
       "    </tr>\n",
       "    <tr>\n",
       "      <th>75%</th>\n",
       "      <td>60.000000</td>\n",
       "      <td>6542.000000</td>\n",
       "    </tr>\n",
       "    <tr>\n",
       "      <th>max</th>\n",
       "      <td>100.000000</td>\n",
       "      <td>9348.000000</td>\n",
       "    </tr>\n",
       "  </tbody>\n",
       "</table>\n",
       "</div>"
      ],
      "text/plain": [
       "       horas_estudo_mes      salario\n",
       "count        500.000000   500.000000\n",
       "mean          50.060000  6018.930000\n",
       "std           14.659406   848.697853\n",
       "min            1.000000  3664.000000\n",
       "25%           39.750000  5473.000000\n",
       "50%           50.000000  6013.500000\n",
       "75%           60.000000  6542.000000\n",
       "max          100.000000  9348.000000"
      ]
     },
     "execution_count": 25,
     "metadata": {},
     "output_type": "execute_result"
    }
   ],
   "source": [
    "df.describe()"
   ]
  },
  {
   "cell_type": "code",
   "execution_count": 26,
   "id": "b11e3624",
   "metadata": {
    "scrolled": true
   },
   "outputs": [
    {
     "data": {
      "text/plain": [
       "count    500.000000\n",
       "mean      50.060000\n",
       "std       14.659406\n",
       "min        1.000000\n",
       "25%       39.750000\n",
       "50%       50.000000\n",
       "75%       60.000000\n",
       "max      100.000000\n",
       "Name: horas_estudo_mes, dtype: float64"
      ]
     },
     "execution_count": 26,
     "metadata": {},
     "output_type": "execute_result"
    }
   ],
   "source": [
    "df[\"horas_estudo_mes\"].describe()"
   ]
  },
  {
   "cell_type": "code",
   "execution_count": 27,
   "id": "cef178dd",
   "metadata": {
    "scrolled": true
   },
   "outputs": [
    {
     "data": {
      "text/plain": [
       "<AxesSubplot:xlabel='horas_estudo_mes', ylabel='Count'>"
      ]
     },
     "execution_count": 27,
     "metadata": {},
     "output_type": "execute_result"
    },
    {
     "data": {
      "image/png": "[encoded data removed]",
      "text/plain": [
       "<Figure size 640x480 with 1 Axes>"
      ]
     },
     "metadata": {},
     "output_type": "display_data"
    }
   ],
   "source": [
    "sns.histplot(data = df, x = \"horas_estudo_mes\", kde = True) "
   ]
  },
  {
   "cell_type": "code",
   "execution_count": 49,
   "id": "b2486c3d",
   "metadata": {},
   "outputs": [],
   "source": [
    "X = np.array(df['horas_estudo_mes'])"
   ]
  },
  {
   "cell_type": "code",
   "execution_count": 50,
   "id": "367eb57f",
   "metadata": {
    "scrolled": false
   },
   "outputs": [
    {
     "data": {
      "text/plain": [
       "numpy.ndarray"
      ]
     },
     "execution_count": 50,
     "metadata": {},
     "output_type": "execute_result"
    }
   ],
   "source": [
    "type(X)"
   ]
  },
  {
   "cell_type": "code",
   "execution_count": 51,
   "id": "b2c5c101",
   "metadata": {},
   "outputs": [],
   "source": [
    "# Ajusta o shape de X\n",
    "X = X.reshape(-1,1)"
   ]
  },
  {
   "cell_type": "code",
   "execution_count": 52,
   "id": "ff0bc159",
   "metadata": {},
   "outputs": [
    {
     "data": {
      "text/plain": [
       "(500, 1)"
      ]
     },
     "execution_count": 52,
     "metadata": {},
     "output_type": "execute_result"
    }
   ],
   "source": [
    "X.shape"
   ]
  },
  {
   "cell_type": "code",
   "execution_count": 53,
   "id": "b64c7504",
   "metadata": {
    "scrolled": true
   },
   "outputs": [
    {
     "data": {
      "text/plain": [
       "array([[ 57.],\n",
       "       [ 48.],\n",
       "       [ 60.],\n",
       "       [ 73.],\n",
       "       [ 46.],\n",
       "       [ 46.],\n",
       "       [ 74.],\n",
       "       [ 62.],\n",
       "       [ 43.],\n",
       "       [ 58.],\n",
       "       [ 43.],\n",
       "       [ 43.],\n",
       "       [ 54.],\n",
       "       [ 21.],\n",
       "       [ 24.],\n",
       "       [ 42.],\n",
       "       [ 35.],\n",
       "       [ 55.],\n",
       "       [ 36.],\n",
       "       [ 29.],\n",
       "       [ 72.],\n",
       "       [ 47.],\n",
       "       [ 51.],\n",
       "       [ 29.],\n",
       "       [ 42.],\n",
       "       [ 52.],\n",
       "       [ 33.],\n",
       "       [ 56.],\n",
       "       [ 41.],\n",
       "       [ 46.],\n",
       "       [ 41.],\n",
       "       [ 78.],\n",
       "       [ 50.],\n",
       "       [ 34.],\n",
       "       [ 62.],\n",
       "       [ 32.],\n",
       "       [ 53.],\n",
       "       [ 21.],\n",
       "       [ 30.],\n",
       "       [ 53.],\n",
       "       [ 61.],\n",
       "       [ 53.],\n",
       "       [ 48.],\n",
       "       [ 45.],\n",
       "       [ 28.],\n",
       "       [ 39.],\n",
       "       [ 43.],\n",
       "       [ 66.],\n",
       "       [ 55.],\n",
       "       [ 24.],\n",
       "       [ 55.],\n",
       "       [ 44.],\n",
       "       [ 40.],\n",
       "       [ 59.],\n",
       "       [ 65.],\n",
       "       [ 64.],\n",
       "       [ 37.],\n",
       "       [ 45.],\n",
       "       [ 55.],\n",
       "       [ 65.],\n",
       "       [ 43.],\n",
       "       [ 47.],\n",
       "       [ 33.],\n",
       "       [ 32.],\n",
       "       [ 62.],\n",
       "       [ 70.],\n",
       "       [ 49.],\n",
       "       [ 65.],\n",
       "       [ 55.],\n",
       "       [ 40.],\n",
       "       [ 55.],\n",
       "       [ 73.],\n",
       "       [ 49.],\n",
       "       [ 73.],\n",
       "       [ 11.],\n",
       "       [ 62.],\n",
       "       [ 51.],\n",
       "       [ 46.],\n",
       "       [ 51.],\n",
       "       [ 20.],\n",
       "       [ 47.],\n",
       "       [ 55.],\n",
       "       [ 72.],\n",
       "       [ 42.],\n",
       "       [ 38.],\n",
       "       [ 42.],\n",
       "       [ 64.],\n",
       "       [ 55.],\n",
       "       [ 42.],\n",
       "       [ 58.],\n",
       "       [ 51.],\n",
       "       [ 65.],\n",
       "       [ 39.],\n",
       "       [ 45.],\n",
       "       [ 44.],\n",
       "       [ 28.],\n",
       "       [ 54.],\n",
       "       [ 54.],\n",
       "       [ 50.],\n",
       "       [ 46.],\n",
       "       [ 29.],\n",
       "       [ 44.],\n",
       "       [ 45.],\n",
       "       [ 38.],\n",
       "       [ 48.],\n",
       "       [ 56.],\n",
       "       [ 78.],\n",
       "       [ 53.],\n",
       "       [ 54.],\n",
       "       [ 49.],\n",
       "       [ 21.],\n",
       "       [ 50.],\n",
       "       [ 51.],\n",
       "       [ 87.],\n",
       "       [ 47.],\n",
       "       [ 55.],\n",
       "       [ 49.],\n",
       "       [ 32.],\n",
       "       [ 67.],\n",
       "       [ 61.],\n",
       "       [ 62.],\n",
       "       [ 36.],\n",
       "       [ 71.],\n",
       "       [ 29.],\n",
       "       [ 59.],\n",
       "       [ 83.],\n",
       "       [ 35.],\n",
       "       [ 42.],\n",
       "       [ 51.],\n",
       "       [ 42.],\n",
       "       [ 27.],\n",
       "       [ 51.],\n",
       "       [ 34.],\n",
       "       [ 57.],\n",
       "       [ 36.],\n",
       "       [ 73.],\n",
       "       [ 38.],\n",
       "       [ 45.],\n",
       "       [ 62.],\n",
       "       [ 32.],\n",
       "       [ 53.],\n",
       "       [ 70.],\n",
       "       [ 26.],\n",
       "       [ 53.],\n",
       "       [ 54.],\n",
       "       [ 62.],\n",
       "       [ 31.],\n",
       "       [ 30.],\n",
       "       [ 58.],\n",
       "       [ 54.],\n",
       "       [ 54.],\n",
       "       [ 55.],\n",
       "       [ 40.],\n",
       "       [ 53.],\n",
       "       [ 54.],\n",
       "       [ 39.],\n",
       "       [ 78.],\n",
       "       [ 57.],\n",
       "       [ 32.],\n",
       "       [ 60.],\n",
       "       [ 35.],\n",
       "       [ 62.],\n",
       "       [ 67.],\n",
       "       [ 38.],\n",
       "       [ 64.],\n",
       "       [ 56.],\n",
       "       [ 62.],\n",
       "       [ 78.],\n",
       "       [ 46.],\n",
       "       [ 39.],\n",
       "       [ 37.],\n",
       "       [ 38.],\n",
       "       [ 49.],\n",
       "       [ 55.],\n",
       "       [ 54.],\n",
       "       [ 62.],\n",
       "       [ 50.],\n",
       "       [ 72.],\n",
       "       [ 46.],\n",
       "       [ 91.],\n",
       "       [ 59.],\n",
       "       [ 37.],\n",
       "       [ 34.],\n",
       "       [ 57.],\n",
       "       [ 47.],\n",
       "       [ 61.],\n",
       "       [ 57.],\n",
       "       [ 49.],\n",
       "       [ 37.],\n",
       "       [ 27.],\n",
       "       [ 43.],\n",
       "       [ 63.],\n",
       "       [ 53.],\n",
       "       [ 31.],\n",
       "       [ 53.],\n",
       "       [ 56.],\n",
       "       [ 37.],\n",
       "       [ 52.],\n",
       "       [ 51.],\n",
       "       [ 33.],\n",
       "       [ 55.],\n",
       "       [ 58.],\n",
       "       [ 66.],\n",
       "       [ 66.],\n",
       "       [ 29.],\n",
       "       [ 36.],\n",
       "       [ 58.],\n",
       "       [ 58.],\n",
       "       [ 58.],\n",
       "       [100.],\n",
       "       [ 59.],\n",
       "       [ 67.],\n",
       "       [ 64.],\n",
       "       [ 60.],\n",
       "       [ 45.],\n",
       "       [ 61.],\n",
       "       [ 38.],\n",
       "       [ 46.],\n",
       "       [ 43.],\n",
       "       [ 51.],\n",
       "       [ 85.],\n",
       "       [ 22.],\n",
       "       [ 60.],\n",
       "       [ 26.],\n",
       "       [ 43.],\n",
       "       [ 66.],\n",
       "       [ 51.],\n",
       "       [ 34.],\n",
       "       [ 39.],\n",
       "       [ 60.],\n",
       "       [ 39.],\n",
       "       [ 53.],\n",
       "       [ 51.],\n",
       "       [ 40.],\n",
       "       [ 82.],\n",
       "       [ 60.],\n",
       "       [ 20.],\n",
       "       [ 53.],\n",
       "       [ 40.],\n",
       "       [ 63.],\n",
       "       [ 38.],\n",
       "       [ 48.],\n",
       "       [ 58.],\n",
       "       [ 63.],\n",
       "       [ 32.],\n",
       "       [ 45.],\n",
       "       [ 43.],\n",
       "       [ 40.],\n",
       "       [ 76.],\n",
       "       [ 56.],\n",
       "       [ 31.],\n",
       "       [ 64.],\n",
       "       [ 82.],\n",
       "       [ 65.],\n",
       "       [ 27.],\n",
       "       [ 43.],\n",
       "       [ 69.],\n",
       "       [ 39.],\n",
       "       [ 57.],\n",
       "       [ 62.],\n",
       "       [ 36.],\n",
       "       [ 49.],\n",
       "       [  1.],\n",
       "       [ 35.],\n",
       "       [ 46.],\n",
       "       [ 31.],\n",
       "       [ 74.],\n",
       "       [ 29.],\n",
       "       [ 43.],\n",
       "       [ 52.],\n",
       "       [ 72.],\n",
       "       [ 28.],\n",
       "       [ 67.],\n",
       "       [ 50.],\n",
       "       [ 35.],\n",
       "       [ 57.],\n",
       "       [ 53.],\n",
       "       [ 41.],\n",
       "       [ 51.],\n",
       "       [ 44.],\n",
       "       [ 52.],\n",
       "       [ 60.],\n",
       "       [ 74.],\n",
       "       [ 31.],\n",
       "       [ 82.],\n",
       "       [ 21.],\n",
       "       [ 48.],\n",
       "       [ 59.],\n",
       "       [ 54.],\n",
       "       [ 41.],\n",
       "       [ 47.],\n",
       "       [ 43.],\n",
       "       [ 41.],\n",
       "       [ 63.],\n",
       "       [ 55.],\n",
       "       [ 40.],\n",
       "       [ 63.],\n",
       "       [ 55.],\n",
       "       [ 62.],\n",
       "       [ 59.],\n",
       "       [ 38.],\n",
       "       [ 42.],\n",
       "       [ 61.],\n",
       "       [ 59.],\n",
       "       [ 50.],\n",
       "       [ 52.],\n",
       "       [ 69.],\n",
       "       [ 41.],\n",
       "       [ 58.],\n",
       "       [ 47.],\n",
       "       [ 47.],\n",
       "       [ 66.],\n",
       "       [ 62.],\n",
       "       [ 62.],\n",
       "       [ 70.],\n",
       "       [ 50.],\n",
       "       [ 60.],\n",
       "       [ 45.],\n",
       "       [ 55.],\n",
       "       [ 48.],\n",
       "       [ 51.],\n",
       "       [ 59.],\n",
       "       [ 38.],\n",
       "       [ 81.],\n",
       "       [ 35.],\n",
       "       [ 32.],\n",
       "       [ 67.],\n",
       "       [ 62.],\n",
       "       [ 59.],\n",
       "       [ 59.],\n",
       "       [ 50.],\n",
       "       [ 37.],\n",
       "       [ 51.],\n",
       "       [ 40.],\n",
       "       [ 65.],\n",
       "       [ 48.],\n",
       "       [ 38.],\n",
       "       [ 45.],\n",
       "       [ 56.],\n",
       "       [ 42.],\n",
       "       [ 38.],\n",
       "       [ 54.],\n",
       "       [ 54.],\n",
       "       [ 42.],\n",
       "       [ 43.],\n",
       "       [ 53.],\n",
       "       [ 28.],\n",
       "       [ 29.],\n",
       "       [ 39.],\n",
       "       [ 47.],\n",
       "       [ 55.],\n",
       "       [ 72.],\n",
       "       [ 63.],\n",
       "       [ 48.],\n",
       "       [ 50.],\n",
       "       [ 35.],\n",
       "       [ 50.],\n",
       "       [ 46.],\n",
       "       [ 55.],\n",
       "       [ 38.],\n",
       "       [ 58.],\n",
       "       [ 73.],\n",
       "       [ 48.],\n",
       "       [ 56.],\n",
       "       [ 60.],\n",
       "       [ 44.],\n",
       "       [ 53.],\n",
       "       [ 50.],\n",
       "       [ 51.],\n",
       "       [ 38.],\n",
       "       [ 50.],\n",
       "       [ 57.],\n",
       "       [ 72.],\n",
       "       [ 64.],\n",
       "       [ 82.],\n",
       "       [ 38.],\n",
       "       [ 63.],\n",
       "       [ 53.],\n",
       "       [ 83.],\n",
       "       [ 38.],\n",
       "       [ 37.],\n",
       "       [ 41.],\n",
       "       [ 18.],\n",
       "       [ 42.],\n",
       "       [ 39.],\n",
       "       [ 52.],\n",
       "       [ 55.],\n",
       "       [ 78.],\n",
       "       [ 64.],\n",
       "       [ 41.],\n",
       "       [ 37.],\n",
       "       [ 57.],\n",
       "       [ 30.],\n",
       "       [ 77.],\n",
       "       [ 68.],\n",
       "       [ 43.],\n",
       "       [ 24.],\n",
       "       [ 70.],\n",
       "       [ 48.],\n",
       "       [ 69.],\n",
       "       [ 26.],\n",
       "       [ 41.],\n",
       "       [ 50.],\n",
       "       [ 51.],\n",
       "       [ 43.],\n",
       "       [ 59.],\n",
       "       [ 34.],\n",
       "       [ 48.],\n",
       "       [ 52.],\n",
       "       [ 58.],\n",
       "       [ 61.],\n",
       "       [ 33.],\n",
       "       [ 27.],\n",
       "       [ 69.],\n",
       "       [ 55.],\n",
       "       [ 39.],\n",
       "       [ 73.],\n",
       "       [ 52.],\n",
       "       [ 68.],\n",
       "       [ 51.],\n",
       "       [ 81.],\n",
       "       [ 76.],\n",
       "       [ 46.],\n",
       "       [ 65.],\n",
       "       [ 60.],\n",
       "       [ 71.],\n",
       "       [ 36.],\n",
       "       [ 60.],\n",
       "       [ 66.],\n",
       "       [ 24.],\n",
       "       [ 32.],\n",
       "       [ 19.],\n",
       "       [ 46.],\n",
       "       [ 61.],\n",
       "       [ 73.],\n",
       "       [ 51.],\n",
       "       [ 74.],\n",
       "       [ 29.],\n",
       "       [ 24.],\n",
       "       [ 49.],\n",
       "       [ 56.],\n",
       "       [ 50.],\n",
       "       [ 19.],\n",
       "       [ 49.],\n",
       "       [ 30.],\n",
       "       [ 60.],\n",
       "       [ 55.],\n",
       "       [ 36.],\n",
       "       [ 42.],\n",
       "       [ 34.],\n",
       "       [ 49.],\n",
       "       [ 64.],\n",
       "       [ 35.],\n",
       "       [ 58.],\n",
       "       [ 42.],\n",
       "       [ 38.],\n",
       "       [ 48.],\n",
       "       [ 34.],\n",
       "       [ 42.],\n",
       "       [ 32.],\n",
       "       [ 79.],\n",
       "       [ 51.],\n",
       "       [ 40.],\n",
       "       [ 53.],\n",
       "       [ 48.],\n",
       "       [ 47.],\n",
       "       [ 59.],\n",
       "       [ 61.],\n",
       "       [ 42.],\n",
       "       [ 41.],\n",
       "       [ 46.],\n",
       "       [ 15.],\n",
       "       [ 27.],\n",
       "       [ 71.],\n",
       "       [ 75.],\n",
       "       [ 46.],\n",
       "       [ 59.],\n",
       "       [ 55.],\n",
       "       [ 96.],\n",
       "       [ 67.],\n",
       "       [ 48.],\n",
       "       [ 36.],\n",
       "       [ 26.],\n",
       "       [ 53.],\n",
       "       [ 39.],\n",
       "       [ 29.],\n",
       "       [ 40.],\n",
       "       [ 34.],\n",
       "       [ 75.],\n",
       "       [ 63.],\n",
       "       [ 50.],\n",
       "       [ 72.],\n",
       "       [ 51.],\n",
       "       [ 37.],\n",
       "       [ 73.],\n",
       "       [ 58.],\n",
       "       [ 34.],\n",
       "       [ 47.],\n",
       "       [ 37.],\n",
       "       [ 29.]])"
      ]
     },
     "execution_count": 53,
     "metadata": {},
     "output_type": "execute_result"
    }
   ],
   "source": [
    "X"
   ]
  },
  {
   "cell_type": "code",
   "execution_count": 55,
   "id": "999ddde3",
   "metadata": {},
   "outputs": [],
   "source": [
    "# prepara a variável alvo\n",
    "y = df['salario']"
   ]
  },
  {
   "cell_type": "code",
   "execution_count": 58,
   "id": "90d10757",
   "metadata": {
    "scrolled": false
   },
   "outputs": [
    {
     "data": {
      "image/png": "[encoded data removed]",
      "text/plain": [
       "<Figure size 640x480 with 1 Axes>"
      ]
     },
     "metadata": {},
     "output_type": "display_data"
    }
   ],
   "source": [
    "#gráfico de dispersão entre X e y\n",
    "plt.scatter(X,y, color = \"blue\", label = \"Dados Reais Históricos\")\n",
    "plt.xlabel(\"Horas de Estudo\")\n",
    "plt.ylabel(\"Salário\")\n",
    "plt.legend()\n",
    "plt.show()"
   ]
  },
  {
   "cell_type": "markdown",
   "id": "ccac7c84",
   "metadata": {},
   "source": [
    "## divisão dos dados"
   ]
  },
  {
   "cell_type": "code",
   "execution_count": 73,
   "id": "7db35d2c",
   "metadata": {},
   "outputs": [],
   "source": [
    "X_treino, X_teste, y_treino, y_teste = sk.model_selection.train_test_split(X,y, test_size= 0.2, random_state= 12345) \n",
    "#THATS THE ORDER"
   ]
  },
  {
   "cell_type": "code",
   "execution_count": 74,
   "id": "25be219a",
   "metadata": {},
   "outputs": [
    {
     "data": {
      "text/plain": [
       "(400, 1)"
      ]
     },
     "execution_count": 74,
     "metadata": {},
     "output_type": "execute_result"
    }
   ],
   "source": [
    "X_treino.shape"
   ]
  },
  {
   "cell_type": "code",
   "execution_count": 75,
   "id": "daf862b6",
   "metadata": {},
   "outputs": [
    {
     "data": {
      "text/plain": [
       "(100, 1)"
      ]
     },
     "execution_count": 75,
     "metadata": {},
     "output_type": "execute_result"
    }
   ],
   "source": [
    "X_teste.shape"
   ]
  },
  {
   "cell_type": "code",
   "execution_count": 76,
   "id": "ffb1df3e",
   "metadata": {},
   "outputs": [
    {
     "data": {
      "text/plain": [
       "(400,)"
      ]
     },
     "execution_count": 76,
     "metadata": {},
     "output_type": "execute_result"
    }
   ],
   "source": [
    "y_treino.shape"
   ]
  },
  {
   "cell_type": "code",
   "execution_count": 77,
   "id": "a26ab10d",
   "metadata": {},
   "outputs": [
    {
     "data": {
      "text/plain": [
       "(100,)"
      ]
     },
     "execution_count": 77,
     "metadata": {},
     "output_type": "execute_result"
    }
   ],
   "source": [
    "y_teste.shape"
   ]
  },
  {
   "cell_type": "markdown",
   "id": "6e536291",
   "metadata": {},
   "source": [
    "## regressão linear"
   ]
  },
  {
   "cell_type": "code",
   "execution_count": 104,
   "id": "e4475596",
   "metadata": {},
   "outputs": [],
   "source": [
    "modelo = LinearRegression()"
   ]
  },
  {
   "cell_type": "code",
   "execution_count": 105,
   "id": "ab9195dd",
   "metadata": {
    "scrolled": true
   },
   "outputs": [
    {
     "data": {
      "text/plain": [
       "LinearRegression()"
      ]
     },
     "execution_count": 105,
     "metadata": {},
     "output_type": "execute_result"
    }
   ],
   "source": [
    "modelo.fit(X_treino, y_treino)"
   ]
  },
  {
   "cell_type": "code",
   "execution_count": 117,
   "id": "5c94668d",
   "metadata": {
    "scrolled": false
   },
   "outputs": [
    {
     "data": {
      "image/png": "[encoded data removed]",
      "text/plain": [
       "<Figure size 640x480 with 1 Axes>"
      ]
     },
     "metadata": {},
     "output_type": "display_data"
    }
   ],
   "source": [
    "# visualizando a reta\n",
    "\n",
    "plt.scatter(X, y, color = \"blue\", label = \"Dados Reais Históricos\")\n",
    "plt.plot(X, modelo.predict(X), color = \"red\", label = \"Reta de Regressão com as previsões do modelo\")\n",
    "plt.xlabel(\"Horas de Estudo\")\n",
    "plt.ylabel(\"Salário\")\n",
    "plt.legend()\n",
    "plt.show()\n",
    "\n",
    "plt.plot()"
   ]
  },
  {
   "cell_type": "code",
   "execution_count": 119,
   "id": "fc36ffda",
   "metadata": {},
   "outputs": [
    {
     "name": "stdout",
     "output_type": "stream",
     "text": [
      "Coeficiente R^2: 0.59\n"
     ]
    }
   ],
   "source": [
    "# avaliando o modelo nos dados de teste\n",
    "score = modelo.score(X_teste, y_teste)\n",
    "print(f\"Coeficiente R^2: {score:.2f}\")"
   ]
  },
  {
   "cell_type": "code",
   "execution_count": 124,
   "id": "2f1c5f30",
   "metadata": {},
   "outputs": [
    {
     "data": {
      "text/plain": [
       "3647.424910188677"
      ]
     },
     "execution_count": 124,
     "metadata": {},
     "output_type": "execute_result"
    }
   ],
   "source": [
    "# intercepto - beta0\n",
    "modelo.intercept_"
   ]
  },
  {
   "cell_type": "code",
   "execution_count": 125,
   "id": "2fb3a454",
   "metadata": {},
   "outputs": [
    {
     "data": {
      "text/plain": [
       "array([47.52826428])"
      ]
     },
     "execution_count": 125,
     "metadata": {},
     "output_type": "execute_result"
    }
   ],
   "source": [
    "# coeficiente angular - beta1\n",
    "modelo.coef_"
   ]
  },
  {
   "cell_type": "markdown",
   "id": "5c3bcfb7",
   "metadata": {},
   "source": [
    "## cross validation"
   ]
  },
  {
   "cell_type": "code",
   "execution_count": 127,
   "id": "a61a9e7c",
   "metadata": {},
   "outputs": [],
   "source": [
    "modelo = LinearRegression()"
   ]
  },
  {
   "cell_type": "code",
   "execution_count": 128,
   "id": "bb5c72bd",
   "metadata": {},
   "outputs": [
    {
     "data": {
      "text/plain": [
       "array([0.62107396, 0.65962268, 0.72137156, 0.55868212, 0.69238845])"
      ]
     },
     "execution_count": 128,
     "metadata": {},
     "output_type": "execute_result"
    }
   ],
   "source": [
    "cross_val_score(modelo, X, y, cv = 5)"
   ]
  },
  {
   "cell_type": "markdown",
   "id": "50d1dec2",
   "metadata": {},
   "source": [
    "## \"deploy\""
   ]
  },
  {
   "cell_type": "code",
   "execution_count": null,
   "id": "b20b57df",
   "metadata": {},
   "outputs": [],
   "source": []
  }
 ],
 "metadata": {
  "kernelspec": {
   "display_name": "Python 3 (ipykernel)",
   "language": "python",
   "name": "python3"
  },
  "language_info": {
   "codemirror_mode": {
    "name": "ipython",
    "version": 3
   },
   "file_extension": ".py",
   "mimetype": "text/x-python",
   "name": "python",
   "nbconvert_exporter": "python",
   "pygments_lexer": "ipython3",
   "version": "3.9.13"
  }
 },
 "nbformat": 4,
 "nbformat_minor": 5
}
