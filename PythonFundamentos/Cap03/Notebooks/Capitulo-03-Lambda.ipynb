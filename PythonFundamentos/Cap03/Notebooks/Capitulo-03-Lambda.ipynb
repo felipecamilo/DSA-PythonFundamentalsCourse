{
 "cells": [
  {
   "cell_type": "markdown",
   "id": "fbe2dc7f",
   "metadata": {},
   "source": [
    "# Python -- Fundamentos"
   ]
  },
  {
   "cell_type": "markdown",
   "id": "ed0eef62",
   "metadata": {},
   "source": [
    "## Expressão Lambda"
   ]
  },
  {
   "cell_type": "code",
   "execution_count": 2,
   "id": "559be506",
   "metadata": {},
   "outputs": [],
   "source": [
    "# Definindo uma função - 3 Linhas de código\n",
    "def potencia(num):\n",
    "    result = num**2\n",
    "    return result"
   ]
  },
  {
   "cell_type": "code",
   "execution_count": 3,
   "id": "dd0cc018",
   "metadata": {},
   "outputs": [
    {
     "data": {
      "text/plain": [
       "25"
      ]
     },
     "execution_count": 3,
     "metadata": {},
     "output_type": "execute_result"
    }
   ],
   "source": [
    "potencia(5)"
   ]
  },
  {
   "cell_type": "code",
   "execution_count": 4,
   "id": "e1eb8a5c",
   "metadata": {},
   "outputs": [],
   "source": [
    "# Definindo uma função - 2 linhas de código\n",
    "def potencia(num):\n",
    "    return num**2"
   ]
  },
  {
   "cell_type": "code",
   "execution_count": 5,
   "id": "330d720d",
   "metadata": {},
   "outputs": [
    {
     "data": {
      "text/plain": [
       "25"
      ]
     },
     "execution_count": 5,
     "metadata": {},
     "output_type": "execute_result"
    }
   ],
   "source": [
    "potencia(5)"
   ]
  },
  {
   "cell_type": "code",
   "execution_count": 6,
   "id": "e3f1c782",
   "metadata": {},
   "outputs": [],
   "source": [
    "# Definindo uma função - 1 linha de código\n",
    "def potencia(num): return num**2"
   ]
  },
  {
   "cell_type": "code",
   "execution_count": 7,
   "id": "a2c89c42",
   "metadata": {},
   "outputs": [
    {
     "data": {
      "text/plain": [
       "25"
      ]
     },
     "execution_count": 7,
     "metadata": {},
     "output_type": "execute_result"
    }
   ],
   "source": [
    "potencia(5)"
   ]
  },
  {
   "cell_type": "code",
   "execution_count": 8,
   "id": "a4024466",
   "metadata": {},
   "outputs": [],
   "source": [
    "potencia = lambda num: num**2"
   ]
  },
  {
   "cell_type": "code",
   "execution_count": 9,
   "id": "8b5c868b",
   "metadata": {},
   "outputs": [
    {
     "data": {
      "text/plain": [
       "25"
      ]
     },
     "execution_count": 9,
     "metadata": {},
     "output_type": "execute_result"
    }
   ],
   "source": [
    "potencia(5)"
   ]
  },
  {
   "cell_type": "code",
   "execution_count": 10,
   "id": "35f1bbdf",
   "metadata": {},
   "outputs": [],
   "source": [
    "# Lembre: operadores de comparação retornam boolean, que são: true or false\n",
    "Par = lambda x: x%2 == 0"
   ]
  },
  {
   "cell_type": "code",
   "execution_count": 11,
   "id": "0d3852e9",
   "metadata": {},
   "outputs": [
    {
     "data": {
      "text/plain": [
       "False"
      ]
     },
     "execution_count": 11,
     "metadata": {},
     "output_type": "execute_result"
    }
   ],
   "source": [
    "Par(3)"
   ]
  },
  {
   "cell_type": "code",
   "execution_count": 12,
   "id": "6b28bbd6",
   "metadata": {},
   "outputs": [
    {
     "data": {
      "text/plain": [
       "True"
      ]
     },
     "execution_count": 12,
     "metadata": {},
     "output_type": "execute_result"
    }
   ],
   "source": [
    "Par(4)"
   ]
  },
  {
   "cell_type": "code",
   "execution_count": 14,
   "id": "4320e74d",
   "metadata": {},
   "outputs": [],
   "source": [
    "first = lambda s: s[0]"
   ]
  },
  {
   "cell_type": "code",
   "execution_count": 15,
   "id": "3947653a",
   "metadata": {},
   "outputs": [
    {
     "data": {
      "text/plain": [
       "'P'"
      ]
     },
     "execution_count": 15,
     "metadata": {},
     "output_type": "execute_result"
    }
   ],
   "source": [
    "first('Python')"
   ]
  },
  {
   "cell_type": "code",
   "execution_count": 16,
   "id": "3b4febba",
   "metadata": {},
   "outputs": [],
   "source": [
    "reverso = lambda  s: s[::-1]"
   ]
  },
  {
   "cell_type": "code",
   "execution_count": 17,
   "id": "ddb2d580",
   "metadata": {},
   "outputs": [
    {
     "data": {
      "text/plain": [
       "'nohtyP'"
      ]
     },
     "execution_count": 17,
     "metadata": {},
     "output_type": "execute_result"
    }
   ],
   "source": [
    "reverso('Python')"
   ]
  },
  {
   "cell_type": "code",
   "execution_count": 18,
   "id": "a8eccabc",
   "metadata": {},
   "outputs": [],
   "source": [
    "addNum = lambda x,y : x+y"
   ]
  },
  {
   "cell_type": "code",
   "execution_count": 19,
   "id": "7d2ceb95",
   "metadata": {},
   "outputs": [
    {
     "data": {
      "text/plain": [
       "5"
      ]
     },
     "execution_count": 19,
     "metadata": {},
     "output_type": "execute_result"
    }
   ],
   "source": [
    "addNum(2,3)"
   ]
  },
  {
   "cell_type": "code",
   "execution_count": 20,
   "id": "ddb8991b",
   "metadata": {},
   "outputs": [
    {
     "name": "stdout",
     "output_type": "stream",
     "text": [
      "462\n"
     ]
    }
   ],
   "source": []
  }
 ],
 "metadata": {
  "kernelspec": {
   "display_name": "Python 3 (ipykernel)",
   "language": "python",
   "name": "python3"
  },
  "language_info": {
   "codemirror_mode": {
    "name": "ipython",
    "version": 3
   },
   "file_extension": ".py",
   "mimetype": "text/x-python",
   "name": "python",
   "nbconvert_exporter": "python",
   "pygments_lexer": "ipython3",
   "version": "3.9.12"
  }
 },
 "nbformat": 4,
 "nbformat_minor": 5
}
