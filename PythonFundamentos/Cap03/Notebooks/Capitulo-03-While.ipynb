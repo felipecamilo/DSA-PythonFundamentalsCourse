{
 "cells": [
  {
   "cell_type": "markdown",
   "id": "18e56e28",
   "metadata": {},
   "source": [
    "## Python -- Fundamentos"
   ]
  },
  {
   "cell_type": "markdown",
   "id": "05aab8c8",
   "metadata": {},
   "source": [
    "## While"
   ]
  },
  {
   "cell_type": "code",
   "execution_count": null,
   "id": "b7990e7a",
   "metadata": {},
   "outputs": [],
   "source": [
    "# Usando o loop while para imprimir os valores de 0 a 9\n",
    "counter = 0\n",
    "while counter < 10:\n",
    "    print(counter)\n",
    "    counter = counter + 1"
   ]
  },
  {
   "cell_type": "code",
   "execution_count": null,
   "id": "65e9441b",
   "metadata": {},
   "outputs": [],
   "source": [
    "# Também é possível usar a claúsula else para encerrar o loop while\n",
    "x = 0\n",
    "\n",
    "while x < 10:\n",
    "    print(\"O  valor de x nesta iteração é: \", x)\n",
    "    print(\" x ainda é menor que 10, somando 1 a x\")\n",
    "    x += 1\n",
    "    \n",
    "else:\n",
    "    print (\"loop concluído\")"
   ]
  },
  {
   "cell_type": "markdown",
   "id": "98681cc1",
   "metadata": {},
   "source": [
    "## Pass, Break, Continue"
   ]
  },
  {
   "cell_type": "code",
   "execution_count": null,
   "id": "0046dfb5",
   "metadata": {},
   "outputs": [],
   "source": [
    "counter = 0\n",
    "while counter < 100:\n",
    "    if counter == 4:\n",
    "        break\n",
    "    else:\n",
    "        pass\n",
    "        print(counter)\n",
    "        counter = counter + 1"
   ]
  },
  {
   "cell_type": "code",
   "execution_count": null,
   "id": "a4c4ebab",
   "metadata": {},
   "outputs": [],
   "source": [
    "# Pular uma iteração\n",
    "for verificador in 'Python':\n",
    "    if  verificador == \"h\":\n",
    "        continue\n",
    "    print(verificador)"
   ]
  },
  {
   "cell_type": "markdown",
   "id": "18675f2f",
   "metadata": {},
   "source": [
    "## While e For juntos"
   ]
  },
  {
   "cell_type": "code",
   "execution_count": 3,
   "id": "512f7eac",
   "metadata": {},
   "outputs": [
    {
     "name": "stdout",
     "output_type": "stream",
     "text": [
      " --- CONTADOR DE NÚMEROS PRIMOS ---\n",
      "Insira de qual número começará a sequência de inteiros analisados: 1\n",
      "Insira em qual número terminará a sequência de inteiros analisados: 50\n",
      "2 é um número primo\n",
      "3 é um número primo\n",
      "5 é um número primo\n",
      "7 é um número primo\n",
      "11 é um número primo\n",
      "13 é um número primo\n",
      "17 é um número primo\n",
      "19 é um número primo\n",
      "23 é um número primo\n",
      "29 é um número primo\n",
      "31 é um número primo\n",
      "37 é um número primo\n",
      "41 é um número primo\n",
      "43 é um número primo\n",
      "47 é um número primo\n",
      "Entre 1 e 50 existem 15 números primos.\n"
     ]
    }
   ],
   "source": [
    "primos = 0\n",
    "\n",
    "print(' --- CONTADOR DE NÚMEROS PRIMOS ---')\n",
    "\n",
    "inicial = int(input('Insira de qual número começará a sequência de inteiros analisados: '))\n",
    "final = int(input('Insira em qual número terminará a sequência de inteiros analisados: '))\n",
    "\n",
    "for i in range (inicial,final+1): \n",
    "    j = 1\n",
    "    counter = 0\n",
    "    \n",
    "    while j <= i:\n",
    "        if i % j == 0:\n",
    "            counter += 1\n",
    "            j = j+1\n",
    "        else: \n",
    "            j = j+1\n",
    "    \n",
    "    if counter == 2:\n",
    "            print(str(i) + \" é um número primo\")\n",
    "            counter = 0\n",
    "            primos = primos + 1\n",
    "    else:\n",
    "            counter = 0 \n",
    "print(\"Entre\",inicial,\"e\",final,\"existem\",primos,\"números primos.\")"
   ]
  },
  {
   "cell_type": "code",
   "execution_count": null,
   "id": "20f13c52",
   "metadata": {},
   "outputs": [],
   "source": []
  }
 ],
 "metadata": {
  "kernelspec": {
   "display_name": "Python 3 (ipykernel)",
   "language": "python",
   "name": "python3"
  },
  "language_info": {
   "codemirror_mode": {
    "name": "ipython",
    "version": 3
   },
   "file_extension": ".py",
   "mimetype": "text/x-python",
   "name": "python",
   "nbconvert_exporter": "python",
   "pygments_lexer": "ipython3",
   "version": "3.9.12"
  }
 },
 "nbformat": 4,
 "nbformat_minor": 5
}
