{
 "cells": [
  {
   "cell_type": "markdown",
   "id": "8b578e31",
   "metadata": {},
   "source": [
    "# Python -- Fundamentos"
   ]
  },
  {
   "cell_type": "markdown",
   "id": "198d96a7",
   "metadata": {},
   "source": [
    "## Zip"
   ]
  },
  {
   "cell_type": "markdown",
   "id": "3ad1712f",
   "metadata": {},
   "source": [
    "Pode ser usado quando o número de elementos for diferente em cada sequência. Mas o objeto resultante terá o mesmo número de elementos da sequência menor."
   ]
  },
  {
   "cell_type": "code",
   "execution_count": 1,
   "id": "13cca5c2",
   "metadata": {},
   "outputs": [],
   "source": [
    "# Criando listas\n",
    "x = [1,2,3]\n",
    "y = [4,5,6]"
   ]
  },
  {
   "cell_type": "code",
   "execution_count": 2,
   "id": "692de2ea",
   "metadata": {},
   "outputs": [
    {
     "data": {
      "text/plain": [
       "<zip at 0x14b73ea8a00>"
      ]
     },
     "execution_count": 2,
     "metadata": {},
     "output_type": "execute_result"
    }
   ],
   "source": [
    "# Unindo as listas. Em Python3 retorna um iterator.\n",
    "zip(x,y)"
   ]
  },
  {
   "cell_type": "code",
   "execution_count": 3,
   "id": "2f15d5c7",
   "metadata": {},
   "outputs": [
    {
     "data": {
      "text/plain": [
       "[(1, 4), (2, 5), (3, 6)]"
      ]
     },
     "execution_count": 3,
     "metadata": {},
     "output_type": "execute_result"
    }
   ],
   "source": [
    "list(zip(x,y))"
   ]
  },
  {
   "cell_type": "code",
   "execution_count": 4,
   "id": "3807181e",
   "metadata": {},
   "outputs": [
    {
     "data": {
      "text/plain": [
       "[('A', 'x'), ('B', 'y')]"
      ]
     },
     "execution_count": 4,
     "metadata": {},
     "output_type": "execute_result"
    }
   ],
   "source": [
    "list(zip('ABCD','xy'))"
   ]
  },
  {
   "cell_type": "code",
   "execution_count": 5,
   "id": "dde3778e",
   "metadata": {},
   "outputs": [],
   "source": [
    "# Criando listas\n",
    "a = [1,2,3]\n",
    "b = [4,5,6,7,8]"
   ]
  },
  {
   "cell_type": "code",
   "execution_count": 6,
   "id": "167e9f4b",
   "metadata": {},
   "outputs": [
    {
     "data": {
      "text/plain": [
       "[(1, 4), (2, 5), (3, 6)]"
      ]
     },
     "execution_count": 6,
     "metadata": {},
     "output_type": "execute_result"
    }
   ],
   "source": [
    "list(zip(a,b))"
   ]
  },
  {
   "cell_type": "code",
   "execution_count": 7,
   "id": "9ed94645",
   "metadata": {},
   "outputs": [],
   "source": [
    "# Criando 2 dicionários\n",
    "d1 = {'a':1,'b':2}\n",
    "d2 = {'c':4,'d':5}"
   ]
  },
  {
   "cell_type": "code",
   "execution_count": 8,
   "id": "5fd52813",
   "metadata": {},
   "outputs": [
    {
     "data": {
      "text/plain": [
       "[('a', 'c'), ('b', 'd')]"
      ]
     },
     "execution_count": 8,
     "metadata": {},
     "output_type": "execute_result"
    }
   ],
   "source": [
    "# ZIP vai unir as chaves\n",
    "list(zip(d1,d2))"
   ]
  },
  {
   "cell_type": "code",
   "execution_count": 10,
   "id": "c28ef2c0",
   "metadata": {},
   "outputs": [
    {
     "data": {
      "text/plain": [
       "[('a', 4), ('b', 5)]"
      ]
     },
     "execution_count": 10,
     "metadata": {},
     "output_type": "execute_result"
    }
   ],
   "source": [
    "# Zip pode unir os valores (itens)\n",
    "list(zip(d1,d2.values()))"
   ]
  },
  {
   "cell_type": "code",
   "execution_count": 11,
   "id": "1098f3f8",
   "metadata": {},
   "outputs": [],
   "source": [
    "# Criando uma função para trocar valores entre 2 dicionários \n",
    "def trocaValores(d1,d2):\n",
    "    dicTemp = {}\n",
    "    \n",
    "    for d1key, d2val in zip(d1, d2.values()):\n",
    "        dicTemp[d1key] = d2val\n",
    "    return dicTemp"
   ]
  },
  {
   "cell_type": "code",
   "execution_count": 12,
   "id": "d3536e57",
   "metadata": {},
   "outputs": [
    {
     "data": {
      "text/plain": [
       "{'a': 4, 'b': 5}"
      ]
     },
     "execution_count": 12,
     "metadata": {},
     "output_type": "execute_result"
    }
   ],
   "source": [
    "trocaValores(d1,d2)"
   ]
  },
  {
   "cell_type": "code",
   "execution_count": null,
   "id": "86539000",
   "metadata": {},
   "outputs": [],
   "source": []
  }
 ],
 "metadata": {
  "kernelspec": {
   "display_name": "Python 3 (ipykernel)",
   "language": "python",
   "name": "python3"
  },
  "language_info": {
   "codemirror_mode": {
    "name": "ipython",
    "version": 3
   },
   "file_extension": ".py",
   "mimetype": "text/x-python",
   "name": "python",
   "nbconvert_exporter": "python",
   "pygments_lexer": "ipython3",
   "version": "3.9.12"
  }
 },
 "nbformat": 4,
 "nbformat_minor": 5
}
