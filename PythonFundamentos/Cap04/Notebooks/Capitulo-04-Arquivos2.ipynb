{
 "cells": [
  {
   "cell_type": "markdown",
   "id": "60e15674",
   "metadata": {},
   "source": [
    "## Manipulando Arquivos TXT"
   ]
  },
  {
   "cell_type": "code",
   "execution_count": null,
   "id": "95cc3fbd",
   "metadata": {},
   "outputs": [],
   "source": [
    "texto = \"Cientista de dados é a profissão que mais tem crescido em todo mundo.\\n\"\n",
    "texto = texto + \"Esses profissionais precisam se especializar em Programação, Estatística e Machine Learning.\\n\"\n",
    "texto += \"E claro, em Big Data.\""
   ]
  },
  {
   "cell_type": "code",
   "execution_count": null,
   "id": "159d5265",
   "metadata": {},
   "outputs": [],
   "source": [
    "print(texto)"
   ]
  },
  {
   "cell_type": "code",
   "execution_count": null,
   "id": "0d7ab4ec",
   "metadata": {},
   "outputs": [],
   "source": [
    "# Importando o módulo os\n",
    "import os"
   ]
  },
  {
   "cell_type": "code",
   "execution_count": null,
   "id": "b3ae3382",
   "metadata": {},
   "outputs": [],
   "source": [
    "# Criando arquivo\n",
    "arquivo = open(os.path.join('arquivos/cientista.txt'), 'w')"
   ]
  },
  {
   "cell_type": "code",
   "execution_count": null,
   "id": "50e3e6a3",
   "metadata": {},
   "outputs": [],
   "source": [
    "# Gravando os dados no arquivo\n",
    "for palavra in texto.split():\n",
    "    arquivo.write(palavra+' ')"
   ]
  },
  {
   "cell_type": "code",
   "execution_count": null,
   "id": "9f166a2b",
   "metadata": {},
   "outputs": [],
   "source": [
    "#  Lendo o arquivo\n",
    "arquivo = open('arquivos/cientista.txt','r')\n",
    "conteudo = arquivo.read()\n",
    "arquivo.close()\n",
    "\n",
    "print(conteudo)"
   ]
  },
  {
   "cell_type": "markdown",
   "id": "35b18a8e",
   "metadata": {},
   "source": [
    "## Usando a expressão with"
   ]
  },
  {
   "cell_type": "markdown",
   "id": "0350e319",
   "metadata": {},
   "source": [
    "O método close é executado automáticamente"
   ]
  },
  {
   "cell_type": "code",
   "execution_count": null,
   "id": "6fa70819",
   "metadata": {},
   "outputs": [],
   "source": [
    "with open('arquivos/cientista.txt','r') as arquivo:\n",
    "    conteudo = arquivo.read()"
   ]
  },
  {
   "cell_type": "code",
   "execution_count": null,
   "id": "1ca0eada",
   "metadata": {},
   "outputs": [],
   "source": [
    "print(len(conteudo))"
   ]
  },
  {
   "cell_type": "code",
   "execution_count": null,
   "id": "f8c785f8",
   "metadata": {},
   "outputs": [],
   "source": [
    "print(conteudo)"
   ]
  },
  {
   "cell_type": "code",
   "execution_count": null,
   "id": "5c5c092d",
   "metadata": {},
   "outputs": [],
   "source": [
    "with open('arquivos/cientista.txt','w') as arquivo:\n",
    "    arquivo.write(texto[:21])\n",
    "    arquivo.write('\\n')\n",
    "    arquivo.write(texto[:33])"
   ]
  },
  {
   "cell_type": "code",
   "execution_count": null,
   "id": "f0ec6056",
   "metadata": {},
   "outputs": [],
   "source": [
    "# Lendo o arquivo\n",
    "arquivo = open('arquivos/cientista.txt','r')\n",
    "conteudo = arquivo.read()\n",
    "arquivo.close()\n",
    "\n",
    "print(conteudo)"
   ]
  },
  {
   "cell_type": "markdown",
   "id": "fb09d447",
   "metadata": {},
   "source": [
    "##  Manipulando arquivos CSV(comma-separeted values)"
   ]
  },
  {
   "cell_type": "code",
   "execution_count": null,
   "id": "00b9a8a8",
   "metadata": {},
   "outputs": [],
   "source": [
    "# Importando o módulo csv \n",
    "import csv"
   ]
  },
  {
   "cell_type": "code",
   "execution_count": null,
   "id": "41534cc7",
   "metadata": {},
   "outputs": [],
   "source": [
    "with open('arquivos/numeros.csv','w') as arquivo:\n",
    "    writer = csv.writer(arquivo)\n",
    "    writer.writerow(('primeira','segunda','terceira'))\n",
    "    writer.writerow((55,93,76))\n",
    "    writer.writerow((62,14,86))"
   ]
  },
  {
   "cell_type": "code",
   "execution_count": null,
   "id": "02db11ff",
   "metadata": {},
   "outputs": [],
   "source": [
    "# Leitura de arquivos csv\n",
    "with open('arquivos/numeros.csv','r',encoding='utf8', newline = '\\r\\n') as arquivo:\n",
    "    leitor = csv.reader(arquivo)\n",
    "    for x in leitor:\n",
    "        print('Número de colunas:',len(x))\n",
    "        print(x)"
   ]
  },
  {
   "cell_type": "code",
   "execution_count": null,
   "id": "4a6c9ed1",
   "metadata": {},
   "outputs": [],
   "source": [
    "# Gerando uma lista  com dados do arquivo csv\n",
    "with open('arquivos/numeros.csv','r', newline = '\\r\\n') as arquivo:\n",
    "    leitor = csv.reader(arquivo)\n",
    "    dados = list(leitor)"
   ]
  },
  {
   "cell_type": "code",
   "execution_count": null,
   "id": "549c865f",
   "metadata": {},
   "outputs": [],
   "source": [
    "print (dados)"
   ]
  },
  {
   "cell_type": "code",
   "execution_count": null,
   "id": "473a6935",
   "metadata": {},
   "outputs": [],
   "source": [
    "# Imprimindo a partir da segunda linha \n",
    "for linha in dados[1:]:\n",
    "    print (linha)"
   ]
  },
  {
   "cell_type": "code",
   "execution_count": null,
   "id": "366163de",
   "metadata": {},
   "outputs": [],
   "source": [
    "print (dados[1:])"
   ]
  },
  {
   "cell_type": "markdown",
   "id": "840cce9a",
   "metadata": {},
   "source": [
    "## Manipulando arquivos JSON (Java Script Object Notation)"
   ]
  },
  {
   "cell_type": "code",
   "execution_count": 1,
   "id": "d87d9952",
   "metadata": {},
   "outputs": [],
   "source": [
    "# Criando um dicionário\n",
    "dict1 = {'nome':'Guido van Rossum',\n",
    "     'linguagem':'Python',\n",
    "     'similar':['c','Modula-3','lisp'],\n",
    "      'users': 1000000}"
   ]
  },
  {
   "cell_type": "code",
   "execution_count": 2,
   "id": "992a000f",
   "metadata": {},
   "outputs": [
    {
     "name": "stdout",
     "output_type": "stream",
     "text": [
      "nome Guido van Rossum\n",
      "linguagem Python\n",
      "similar ['c', 'Modula-3', 'lisp']\n",
      "users 1000000\n"
     ]
    }
   ],
   "source": [
    "for k,v in dict1.items():\n",
    "    print(k,v)"
   ]
  },
  {
   "cell_type": "code",
   "execution_count": 3,
   "id": "d577f692",
   "metadata": {},
   "outputs": [],
   "source": [
    "# Importando módulo JSON\n",
    "import json"
   ]
  },
  {
   "cell_type": "code",
   "execution_count": 4,
   "id": "189f2591",
   "metadata": {},
   "outputs": [
    {
     "data": {
      "text/plain": [
       "'{\"nome\": \"Guido van Rossum\", \"linguagem\": \"Python\", \"similar\": [\"c\", \"Modula-3\", \"lisp\"], \"users\": 1000000}'"
      ]
     },
     "execution_count": 4,
     "metadata": {},
     "output_type": "execute_result"
    }
   ],
   "source": [
    "# Convertendo o dicionário para um objeto json\n",
    "json.dumps(dict1)"
   ]
  },
  {
   "cell_type": "code",
   "execution_count": 5,
   "id": "b8d91f8b",
   "metadata": {},
   "outputs": [],
   "source": [
    "# Criando um arquivo JSON\n",
    "with open ('arquivos/dados.json','w') as arquivo:\n",
    "    arquivo.write(json.dumps(dict1))"
   ]
  },
  {
   "cell_type": "code",
   "execution_count": 11,
   "id": "14582990",
   "metadata": {},
   "outputs": [],
   "source": [
    "# Leitura de arquivos JSON\n",
    "with open ('arquivos/dados.json', 'r') as arquivo:\n",
    "    texto = arquivo.read()\n",
    "    data = json.loads(texto)"
   ]
  },
  {
   "cell_type": "code",
   "execution_count": 12,
   "id": "8c98799f",
   "metadata": {},
   "outputs": [
    {
     "name": "stdout",
     "output_type": "stream",
     "text": [
      "{'nome': 'Guido van Rossum', 'linguagem': 'Python', 'similar': ['c', 'Modula-3', 'lisp'], 'users': 1000000}\n"
     ]
    }
   ],
   "source": [
    "print (data)"
   ]
  },
  {
   "cell_type": "code",
   "execution_count": 13,
   "id": "278173bb",
   "metadata": {},
   "outputs": [
    {
     "name": "stdout",
     "output_type": "stream",
     "text": [
      "Guido van Rossum\n"
     ]
    }
   ],
   "source": [
    "print (data['nome'])"
   ]
  },
  {
   "cell_type": "code",
   "execution_count": 14,
   "id": "1b37ec69",
   "metadata": {},
   "outputs": [],
   "source": [
    "#  Imprimindo um arquivo JSON copiado da internet\n",
    "from urllib.request import urlopen\n",
    "\n",
    "response = urlopen(\"http://vimeo.com/api/v2/video/57733101.json\").read().decode('utf8')\n",
    "data = json.loads(response)[0]"
   ]
  },
  {
   "cell_type": "code",
   "execution_count": 15,
   "id": "6fe5a1e1",
   "metadata": {},
   "outputs": [
    {
     "name": "stdout",
     "output_type": "stream",
     "text": [
      "Título: The Good Man trailer\n",
      "URL:  https://vimeo.com/57733101\n",
      "Duração:  143\n",
      "Número de Visualizações:  6472\n"
     ]
    }
   ],
   "source": [
    "print ('Título:', data['title'])\n",
    "print('URL: ', data['url'])\n",
    "print('Duração: ', data['duration'])\n",
    "print('Número de Visualizações: ', data['stats_number_of_plays'])"
   ]
  },
  {
   "cell_type": "code",
   "execution_count": 16,
   "id": "d3ddc27f",
   "metadata": {},
   "outputs": [],
   "source": [
    "# Copiando o conteúdo de uma arquivo para outro\n",
    "import os \n",
    "\n",
    "arquivo_fonte = 'arquivos/dados.json'\n",
    "arquivo_destino = 'arquivos/json_data.txt'"
   ]
  },
  {
   "cell_type": "code",
   "execution_count": 17,
   "id": "a76edc4b",
   "metadata": {},
   "outputs": [],
   "source": [
    "# Método 1\n",
    "with open(arquivo_fonte,'r') as infile:\n",
    "    text = infile.read()\n",
    "    with open(arquivo_destino,'w') as outfile:\n",
    "        outfile.write(text)"
   ]
  },
  {
   "cell_type": "code",
   "execution_count": 18,
   "id": "a089bbc5",
   "metadata": {},
   "outputs": [
    {
     "data": {
      "text/plain": [
       "107"
      ]
     },
     "execution_count": 18,
     "metadata": {},
     "output_type": "execute_result"
    }
   ],
   "source": [
    "# Método 2\n",
    "open(arquivo_destino,'w').write(open(arquivo_fonte,'r').read())"
   ]
  },
  {
   "cell_type": "code",
   "execution_count": 19,
   "id": "2943bbe6",
   "metadata": {},
   "outputs": [],
   "source": [
    "# Leitura de arquivo JSON\n",
    "with open(arquivo_destino,'r') as arquivo:\n",
    "    texto = arquivo.read()\n",
    "    data = json.loads(texto)"
   ]
  },
  {
   "cell_type": "code",
   "execution_count": 20,
   "id": "f70d15d5",
   "metadata": {},
   "outputs": [
    {
     "name": "stdout",
     "output_type": "stream",
     "text": [
      "{'nome': 'Guido van Rossum', 'linguagem': 'Python', 'similar': ['c', 'Modula-3', 'lisp'], 'users': 1000000}\n"
     ]
    }
   ],
   "source": [
    "print(data)"
   ]
  },
  {
   "cell_type": "code",
   "execution_count": null,
   "id": "a433a49d",
   "metadata": {},
   "outputs": [],
   "source": []
  }
 ],
 "metadata": {
  "kernelspec": {
   "display_name": "Python 3 (ipykernel)",
   "language": "python",
   "name": "python3"
  },
  "language_info": {
   "codemirror_mode": {
    "name": "ipython",
    "version": 3
   },
   "file_extension": ".py",
   "mimetype": "text/x-python",
   "name": "python",
   "nbconvert_exporter": "python",
   "pygments_lexer": "ipython3",
   "version": "3.9.12"
  }
 },
 "nbformat": 4,
 "nbformat_minor": 5
}
