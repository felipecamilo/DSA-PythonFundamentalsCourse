{
 "cells": [
  {
   "cell_type": "markdown",
   "id": "cb0cd320",
   "metadata": {},
   "source": [
    "# Python -- Fundamentos"
   ]
  },
  {
   "cell_type": "markdown",
   "id": "d6461d6d",
   "metadata": {},
   "source": [
    "## Váriáves e Operadores"
   ]
  },
  {
   "cell_type": "code",
   "execution_count": 1,
   "id": "a400d459",
   "metadata": {},
   "outputs": [],
   "source": [
    "# Atribundo o valor 1 à  variável var_teste\n",
    "var_teste = 1"
   ]
  },
  {
   "cell_type": "code",
   "execution_count": 3,
   "id": "3edb1709",
   "metadata": {},
   "outputs": [
    {
     "data": {
      "text/plain": [
       "1"
      ]
     },
     "execution_count": 3,
     "metadata": {},
     "output_type": "execute_result"
    }
   ],
   "source": [
    "# Imprimindo a variável var_teste\n",
    "var_teste"
   ]
  },
  {
   "cell_type": "code",
   "execution_count": 4,
   "id": "26004970",
   "metadata": {},
   "outputs": [
    {
     "name": "stdout",
     "output_type": "stream",
     "text": [
      "1\n"
     ]
    }
   ],
   "source": [
    "# Imprimindo a variável var_teste\n",
    "print(var_teste)"
   ]
  },
  {
   "cell_type": "code",
   "execution_count": 5,
   "id": "7fd15181",
   "metadata": {},
   "outputs": [
    {
     "ename": "NameError",
     "evalue": "name 'my_var' is not defined",
     "output_type": "error",
     "traceback": [
      "\u001b[1;31m---------------------------------------------------------------------------\u001b[0m",
      "\u001b[1;31mNameError\u001b[0m                                 Traceback (most recent call last)",
      "Input \u001b[1;32mIn [5]\u001b[0m, in \u001b[0;36m<cell line: 2>\u001b[1;34m()\u001b[0m\n\u001b[0;32m      1\u001b[0m \u001b[38;5;66;03m# Não podemos utiliza uma variável que não foi definida. Veja a mensagem de erro.\u001b[39;00m\n\u001b[1;32m----> 2\u001b[0m \u001b[43mmy_var\u001b[49m\n",
      "\u001b[1;31mNameError\u001b[0m: name 'my_var' is not defined"
     ]
    }
   ],
   "source": [
    "# Não podemos utiliza uma variável que não foi definida. Veja a mensagem de erro.\n",
    "my_var"
   ]
  },
  {
   "cell_type": "code",
   "execution_count": 6,
   "id": "239aa421",
   "metadata": {},
   "outputs": [],
   "source": [
    "var_teste=2"
   ]
  },
  {
   "cell_type": "code",
   "execution_count": 7,
   "id": "4703c00b",
   "metadata": {},
   "outputs": [
    {
     "data": {
      "text/plain": [
       "2"
      ]
     },
     "execution_count": 7,
     "metadata": {},
     "output_type": "execute_result"
    }
   ],
   "source": [
    "var_teste"
   ]
  },
  {
   "cell_type": "code",
   "execution_count": 8,
   "id": "5e910838",
   "metadata": {},
   "outputs": [
    {
     "data": {
      "text/plain": [
       "int"
      ]
     },
     "execution_count": 8,
     "metadata": {},
     "output_type": "execute_result"
    }
   ],
   "source": [
    "type(var_teste)"
   ]
  },
  {
   "cell_type": "code",
   "execution_count": 11,
   "id": "b52dfae9",
   "metadata": {},
   "outputs": [],
   "source": [
    "var_teste=9.5"
   ]
  },
  {
   "cell_type": "code",
   "execution_count": 12,
   "id": "22771e16",
   "metadata": {},
   "outputs": [
    {
     "data": {
      "text/plain": [
       "float"
      ]
     },
     "execution_count": 12,
     "metadata": {},
     "output_type": "execute_result"
    }
   ],
   "source": [
    "type(var_teste)"
   ]
  },
  {
   "cell_type": "code",
   "execution_count": 13,
   "id": "aab8988e",
   "metadata": {},
   "outputs": [],
   "source": [
    "x=1"
   ]
  },
  {
   "cell_type": "code",
   "execution_count": 14,
   "id": "b971058d",
   "metadata": {},
   "outputs": [
    {
     "data": {
      "text/plain": [
       "1"
      ]
     },
     "execution_count": 14,
     "metadata": {},
     "output_type": "execute_result"
    }
   ],
   "source": [
    "x"
   ]
  },
  {
   "cell_type": "markdown",
   "id": "38c5e482",
   "metadata": {},
   "source": [
    "## Declaração Mútipla"
   ]
  },
  {
   "cell_type": "code",
   "execution_count": 15,
   "id": "7359a478",
   "metadata": {},
   "outputs": [],
   "source": [
    "pessoa1, pessoa2, pessoa3 = \"Maria\", \"José\", \"Felipe\""
   ]
  },
  {
   "cell_type": "code",
   "execution_count": 16,
   "id": "e3989cda",
   "metadata": {},
   "outputs": [
    {
     "data": {
      "text/plain": [
       "'Maria'"
      ]
     },
     "execution_count": 16,
     "metadata": {},
     "output_type": "execute_result"
    }
   ],
   "source": [
    "pessoa1"
   ]
  },
  {
   "cell_type": "code",
   "execution_count": 17,
   "id": "047e6731",
   "metadata": {},
   "outputs": [
    {
     "data": {
      "text/plain": [
       "'José'"
      ]
     },
     "execution_count": 17,
     "metadata": {},
     "output_type": "execute_result"
    }
   ],
   "source": [
    "pessoa2"
   ]
  },
  {
   "cell_type": "code",
   "execution_count": 18,
   "id": "d2fef39a",
   "metadata": {},
   "outputs": [
    {
     "data": {
      "text/plain": [
       "'Felipe'"
      ]
     },
     "execution_count": 18,
     "metadata": {},
     "output_type": "execute_result"
    }
   ],
   "source": [
    "pessoa3"
   ]
  },
  {
   "cell_type": "code",
   "execution_count": 21,
   "id": "8b50de74",
   "metadata": {},
   "outputs": [
    {
     "data": {
      "text/plain": [
       "('Maria', 'José', 'Felipe')"
      ]
     },
     "execution_count": 21,
     "metadata": {},
     "output_type": "execute_result"
    }
   ],
   "source": [
    "pessoa1, pessoa2, pessoa3"
   ]
  },
  {
   "cell_type": "code",
   "execution_count": 24,
   "id": "a9a3e981",
   "metadata": {},
   "outputs": [],
   "source": [
    "fruta1 = fruta2= fruta3 = \"Laranja\""
   ]
  },
  {
   "cell_type": "code",
   "execution_count": 25,
   "id": "703dd6b9",
   "metadata": {},
   "outputs": [
    {
     "data": {
      "text/plain": [
       "'Laranja'"
      ]
     },
     "execution_count": 25,
     "metadata": {},
     "output_type": "execute_result"
    }
   ],
   "source": [
    "fruta1"
   ]
  },
  {
   "cell_type": "code",
   "execution_count": 26,
   "id": "686e0119",
   "metadata": {},
   "outputs": [
    {
     "data": {
      "text/plain": [
       "'Laranja'"
      ]
     },
     "execution_count": 26,
     "metadata": {},
     "output_type": "execute_result"
    }
   ],
   "source": [
    "fruta2"
   ]
  },
  {
   "cell_type": "markdown",
   "id": "0064554e",
   "metadata": {},
   "source": [
    "## Pode-se usar letras, números e underline (mas não se pode começar com números)\n"
   ]
  },
  {
   "cell_type": "code",
   "execution_count": 27,
   "id": "1c13cc18",
   "metadata": {},
   "outputs": [],
   "source": [
    "x1=5"
   ]
  },
  {
   "cell_type": "code",
   "execution_count": 28,
   "id": "05d903fa",
   "metadata": {},
   "outputs": [
    {
     "ename": "SyntaxError",
     "evalue": "invalid syntax (1277451914.py, line 1)",
     "output_type": "error",
     "traceback": [
      "\u001b[1;36m  Input \u001b[1;32mIn [28]\u001b[1;36m\u001b[0m\n\u001b[1;33m    1x=5\u001b[0m\n\u001b[1;37m     ^\u001b[0m\n\u001b[1;31mSyntaxError\u001b[0m\u001b[1;31m:\u001b[0m invalid syntax\n"
     ]
    }
   ],
   "source": [
    "# Mensagem de erro, pois o Python não permite nomes de variáveis que iniciem com números\n",
    "1x=5"
   ]
  },
  {
   "cell_type": "markdown",
   "id": "ee62cb28",
   "metadata": {},
   "source": [
    "## Não se pode usar palavras reservadas como nome de variável\n",
    "\n",
    "## False      \n",
    "## class      \n",
    "## finally    \n",
    "## is         \n",
    "## return\n",
    "## None       \n",
    "## continue   \n",
    "## for        \n",
    "## lambda     \n",
    "## try\n",
    "## True       \n",
    "## def        \n",
    "## from       \n",
    "## nonlocal   \n",
    "## while\n",
    "## and        \n",
    "## del        \n",
    "## global     \n",
    "## not        \n",
    "## with\n",
    "## as         \n",
    "## elif       \n",
    "## if         \n",
    "## or         \n",
    "## yield\n",
    "## assert     \n",
    "## else       \n",
    "## import     \n",
    "## pass\n",
    "## break      \n",
    "## except     \n",
    "## in         \n",
    "## raise"
   ]
  },
  {
   "cell_type": "code",
   "execution_count": 30,
   "id": "8ba7134d",
   "metadata": {},
   "outputs": [
    {
     "ename": "SyntaxError",
     "evalue": "invalid syntax (3552959610.py, line 1)",
     "output_type": "error",
     "traceback": [
      "\u001b[1;36m  Input \u001b[1;32mIn [30]\u001b[1;36m\u001b[0m\n\u001b[1;33m    while= 1\u001b[0m\n\u001b[1;37m         ^\u001b[0m\n\u001b[1;31mSyntaxError\u001b[0m\u001b[1;31m:\u001b[0m invalid syntax\n"
     ]
    }
   ],
   "source": [
    "while= 1"
   ]
  },
  {
   "cell_type": "markdown",
   "id": "6090aedf",
   "metadata": {},
   "source": [
    "##  Variáveis atribuídas  a outras variáveis e ordem dos operadores"
   ]
  },
  {
   "cell_type": "code",
   "execution_count": 32,
   "id": "02831d2c",
   "metadata": {},
   "outputs": [],
   "source": [
    "largura= 2"
   ]
  },
  {
   "cell_type": "code",
   "execution_count": 33,
   "id": "47b92552",
   "metadata": {},
   "outputs": [],
   "source": [
    "altura=4"
   ]
  },
  {
   "cell_type": "code",
   "execution_count": 34,
   "id": "b65f01e1",
   "metadata": {},
   "outputs": [],
   "source": [
    "area = largura * altura"
   ]
  },
  {
   "cell_type": "code",
   "execution_count": 35,
   "id": "5e3ce5b7",
   "metadata": {},
   "outputs": [],
   "source": [
    "perimetro = 2*altura + 2*largura"
   ]
  },
  {
   "cell_type": "code",
   "execution_count": 36,
   "id": "8df6f49d",
   "metadata": {},
   "outputs": [
    {
     "data": {
      "text/plain": [
       "12"
      ]
     },
     "execution_count": 36,
     "metadata": {},
     "output_type": "execute_result"
    }
   ],
   "source": [
    "perimetro"
   ]
  },
  {
   "cell_type": "code",
   "execution_count": 37,
   "id": "0fa7651f",
   "metadata": {},
   "outputs": [
    {
     "name": "stdout",
     "output_type": "stream",
     "text": [
      "8\n"
     ]
    }
   ],
   "source": [
    "print(area)"
   ]
  },
  {
   "cell_type": "code",
   "execution_count": 38,
   "id": "ecfcce36",
   "metadata": {},
   "outputs": [],
   "source": [
    "#A  ordem  das operações é a mesma da matemática\n",
    "perimetro = 2 * (largura + 2) *altura"
   ]
  },
  {
   "cell_type": "code",
   "execution_count": 39,
   "id": "b76d5507",
   "metadata": {},
   "outputs": [
    {
     "name": "stdout",
     "output_type": "stream",
     "text": [
      "32\n"
     ]
    }
   ],
   "source": [
    "print(perimetro)"
   ]
  },
  {
   "cell_type": "markdown",
   "id": "754b7b59",
   "metadata": {},
   "source": [
    "## Operações com variáveis"
   ]
  },
  {
   "cell_type": "code",
   "execution_count": 40,
   "id": "4b3a9c94",
   "metadata": {},
   "outputs": [],
   "source": [
    "idade1 = 25"
   ]
  },
  {
   "cell_type": "code",
   "execution_count": 41,
   "id": "0b4bdd3a",
   "metadata": {},
   "outputs": [],
   "source": [
    "idade2 = 35"
   ]
  },
  {
   "cell_type": "code",
   "execution_count": 42,
   "id": "edfc96ad",
   "metadata": {},
   "outputs": [
    {
     "name": "stdout",
     "output_type": "stream",
     "text": [
      "60\n"
     ]
    }
   ],
   "source": [
    "print(idade1 + idade2)"
   ]
  },
  {
   "cell_type": "code",
   "execution_count": 43,
   "id": "5caa9fce",
   "metadata": {},
   "outputs": [
    {
     "name": "stdout",
     "output_type": "stream",
     "text": [
      "10\n"
     ]
    }
   ],
   "source": [
    "print(idade2 - idade1)"
   ]
  },
  {
   "cell_type": "code",
   "execution_count": 44,
   "id": "cfe7d1b3",
   "metadata": {},
   "outputs": [
    {
     "data": {
      "text/plain": [
       "875"
      ]
     },
     "execution_count": 44,
     "metadata": {},
     "output_type": "execute_result"
    }
   ],
   "source": [
    "idade1 * idade2"
   ]
  },
  {
   "cell_type": "code",
   "execution_count": 52,
   "id": "6533a97b",
   "metadata": {},
   "outputs": [
    {
     "data": {
      "text/plain": [
       "1.4"
      ]
     },
     "execution_count": 52,
     "metadata": {},
     "output_type": "execute_result"
    }
   ],
   "source": [
    "idade2 / idade1"
   ]
  },
  {
   "cell_type": "code",
   "execution_count": 53,
   "id": "e713c22b",
   "metadata": {},
   "outputs": [
    {
     "data": {
      "text/plain": [
       "10"
      ]
     },
     "execution_count": 53,
     "metadata": {},
     "output_type": "execute_result"
    }
   ],
   "source": [
    "idade2%idade1"
   ]
  },
  {
   "cell_type": "markdown",
   "id": "79123140",
   "metadata": {},
   "source": [
    "## Concatenação de Variáveis"
   ]
  },
  {
   "cell_type": "code",
   "execution_count": 54,
   "id": "1fb0bd49",
   "metadata": {},
   "outputs": [],
   "source": [
    "nome = \"Felipe\""
   ]
  },
  {
   "cell_type": "code",
   "execution_count": 55,
   "id": "4091c7c1",
   "metadata": {},
   "outputs": [],
   "source": [
    "sobrenome= \"Camilo\""
   ]
  },
  {
   "cell_type": "code",
   "execution_count": 56,
   "id": "6ae307cc",
   "metadata": {},
   "outputs": [],
   "source": [
    "fullname = nome+ \" \"+ sobrenome"
   ]
  },
  {
   "cell_type": "code",
   "execution_count": 57,
   "id": "ac87864b",
   "metadata": {},
   "outputs": [
    {
     "name": "stdout",
     "output_type": "stream",
     "text": [
      "Felipe Camilo\n"
     ]
    }
   ],
   "source": [
    "print(fullname)"
   ]
  },
  {
   "cell_type": "code",
   "execution_count": 58,
   "id": "77035245",
   "metadata": {},
   "outputs": [
    {
     "name": "stdout",
     "output_type": "stream",
     "text": [
      "Felipe Camilo\n"
     ]
    }
   ],
   "source": [
    "print(nome+ \" \"+ sobrenome)"
   ]
  },
  {
   "cell_type": "code",
   "execution_count": null,
   "id": "0a4b48b0",
   "metadata": {},
   "outputs": [],
   "source": []
  }
 ],
 "metadata": {
  "kernelspec": {
   "display_name": "Python 3 (ipykernel)",
   "language": "python",
   "name": "python3"
  },
  "language_info": {
   "codemirror_mode": {
    "name": "ipython",
    "version": 3
   },
   "file_extension": ".py",
   "mimetype": "text/x-python",
   "name": "python",
   "nbconvert_exporter": "python",
   "pygments_lexer": "ipython3",
   "version": "3.9.12"
  }
 },
 "nbformat": 4,
 "nbformat_minor": 5
}
