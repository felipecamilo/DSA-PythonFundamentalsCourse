{
 "cells": [
  {
   "cell_type": "markdown",
   "id": "9d181fd7",
   "metadata": {},
   "source": [
    "## Python -- Fundamentos"
   ]
  },
  {
   "cell_type": "markdown",
   "id": "a19a6897",
   "metadata": {},
   "source": [
    "## Tuplas \n",
    "(Estruturas imutáves)"
   ]
  },
  {
   "cell_type": "code",
   "execution_count": 1,
   "id": "5b50d8e8",
   "metadata": {},
   "outputs": [],
   "source": [
    "# Criando uma tupla\n",
    "tupla1= (\"Geografia\", 23, \"Elefante\")"
   ]
  },
  {
   "cell_type": "code",
   "execution_count": 2,
   "id": "5d5d6715",
   "metadata": {},
   "outputs": [
    {
     "data": {
      "text/plain": [
       "('Geografia', 23, 'Elefante')"
      ]
     },
     "execution_count": 2,
     "metadata": {},
     "output_type": "execute_result"
    }
   ],
   "source": [
    "#imprimindo a tupla\n",
    "tupla1"
   ]
  },
  {
   "cell_type": "code",
   "execution_count": 3,
   "id": "09c08e59",
   "metadata": {},
   "outputs": [
    {
     "ename": "AttributeError",
     "evalue": "'tuple' object has no attribute 'append'",
     "output_type": "error",
     "traceback": [
      "\u001b[1;31m---------------------------------------------------------------------------\u001b[0m",
      "\u001b[1;31mAttributeError\u001b[0m                            Traceback (most recent call last)",
      "Input \u001b[1;32mIn [3]\u001b[0m, in \u001b[0;36m<cell line: 2>\u001b[1;34m()\u001b[0m\n\u001b[0;32m      1\u001b[0m \u001b[38;5;66;03m# Tuplas não suportam append()\u001b[39;00m\n\u001b[1;32m----> 2\u001b[0m \u001b[43mtupla1\u001b[49m\u001b[38;5;241;43m.\u001b[39;49m\u001b[43mappend\u001b[49m(\u001b[38;5;124m\"\u001b[39m\u001b[38;5;124mChocolate\u001b[39m\u001b[38;5;124m\"\u001b[39m)\n",
      "\u001b[1;31mAttributeError\u001b[0m: 'tuple' object has no attribute 'append'"
     ]
    }
   ],
   "source": [
    "# Tuplas não suportam append()\n",
    "tupla1.append(\"Chocolate\")"
   ]
  },
  {
   "cell_type": "code",
   "execution_count": 4,
   "id": "0c234241",
   "metadata": {},
   "outputs": [
    {
     "ename": "TypeError",
     "evalue": "'tuple' object does not support item deletion",
     "output_type": "error",
     "traceback": [
      "\u001b[1;31m---------------------------------------------------------------------------\u001b[0m",
      "\u001b[1;31mTypeError\u001b[0m                                 Traceback (most recent call last)",
      "Input \u001b[1;32mIn [4]\u001b[0m, in \u001b[0;36m<cell line: 2>\u001b[1;34m()\u001b[0m\n\u001b[0;32m      1\u001b[0m \u001b[38;5;66;03m## uplas não suportam delete de um item específico \u001b[39;00m\n\u001b[1;32m----> 2\u001b[0m \u001b[38;5;28;01mdel\u001b[39;00m tupla1[\u001b[38;5;124m\"\u001b[39m\u001b[38;5;124mGeografia\u001b[39m\u001b[38;5;124m\"\u001b[39m]\n",
      "\u001b[1;31mTypeError\u001b[0m: 'tuple' object does not support item deletion"
     ]
    }
   ],
   "source": [
    "## uplas não suportam delete de um item específico \n",
    "del tupla1[\"Geografia\"]"
   ]
  },
  {
   "cell_type": "code",
   "execution_count": 5,
   "id": "58b00f00",
   "metadata": {},
   "outputs": [],
   "source": [
    "# Tuplas podem ter um únco item\n",
    "tupla1 = (\"Chocolate\")"
   ]
  },
  {
   "cell_type": "code",
   "execution_count": 6,
   "id": "3a864130",
   "metadata": {},
   "outputs": [
    {
     "data": {
      "text/plain": [
       "'Chocolate'"
      ]
     },
     "execution_count": 6,
     "metadata": {},
     "output_type": "execute_result"
    }
   ],
   "source": [
    "tupla1"
   ]
  },
  {
   "cell_type": "code",
   "execution_count": 7,
   "id": "76afea7b",
   "metadata": {},
   "outputs": [],
   "source": [
    "tupla1 = (\"Geografia\", 23, \"Elefantes\")"
   ]
  },
  {
   "cell_type": "code",
   "execution_count": 8,
   "id": "bb1ff7db",
   "metadata": {},
   "outputs": [
    {
     "data": {
      "text/plain": [
       "'Geografia'"
      ]
     },
     "execution_count": 8,
     "metadata": {},
     "output_type": "execute_result"
    }
   ],
   "source": [
    "tupla1[0]"
   ]
  },
  {
   "cell_type": "code",
   "execution_count": 9,
   "id": "2ed73630",
   "metadata": {},
   "outputs": [
    {
     "data": {
      "text/plain": [
       "3"
      ]
     },
     "execution_count": 9,
     "metadata": {},
     "output_type": "execute_result"
    }
   ],
   "source": [
    "# Verificando comprimento da tupla\n",
    "len(tupla1)"
   ]
  },
  {
   "cell_type": "code",
   "execution_count": 10,
   "id": "476ca5d9",
   "metadata": {},
   "outputs": [
    {
     "data": {
      "text/plain": [
       "(23, 'Elefantes')"
      ]
     },
     "execution_count": 10,
     "metadata": {},
     "output_type": "execute_result"
    }
   ],
   "source": [
    "# Slicing da mesma forma que se faz com listas\n",
    "tupla1[1:]"
   ]
  },
  {
   "cell_type": "code",
   "execution_count": 12,
   "id": "c788668c",
   "metadata": {},
   "outputs": [
    {
     "data": {
      "text/plain": [
       "2"
      ]
     },
     "execution_count": 12,
     "metadata": {},
     "output_type": "execute_result"
    }
   ],
   "source": [
    "tupla1.index(\"Elefantes\")"
   ]
  },
  {
   "cell_type": "code",
   "execution_count": 13,
   "id": "dc050ad2",
   "metadata": {},
   "outputs": [
    {
     "ename": "TypeError",
     "evalue": "'tuple' object does not support item assignment",
     "output_type": "error",
     "traceback": [
      "\u001b[1;31m---------------------------------------------------------------------------\u001b[0m",
      "\u001b[1;31mTypeError\u001b[0m                                 Traceback (most recent call last)",
      "Input \u001b[1;32mIn [13]\u001b[0m, in \u001b[0;36m<cell line: 2>\u001b[1;34m()\u001b[0m\n\u001b[0;32m      1\u001b[0m \u001b[38;5;66;03m# TTuplas não suportam atrbuição de item\u001b[39;00m\n\u001b[1;32m----> 2\u001b[0m tupla1[\u001b[38;5;241m1\u001b[39m] \u001b[38;5;241m=\u001b[39m \u001b[38;5;241m21\u001b[39m\n",
      "\u001b[1;31mTypeError\u001b[0m: 'tuple' object does not support item assignment"
     ]
    }
   ],
   "source": [
    "# Tuplas não suportam atrbuição de item\n",
    "tupla1[1] = 21"
   ]
  },
  {
   "cell_type": "code",
   "execution_count": 14,
   "id": "735d1bca",
   "metadata": {},
   "outputs": [],
   "source": [
    "# Deletando a Tupla\n",
    "del tupla1"
   ]
  },
  {
   "cell_type": "code",
   "execution_count": 15,
   "id": "072d32ee",
   "metadata": {},
   "outputs": [
    {
     "ename": "NameError",
     "evalue": "name 'tupla1' is not defined",
     "output_type": "error",
     "traceback": [
      "\u001b[1;31m---------------------------------------------------------------------------\u001b[0m",
      "\u001b[1;31mNameError\u001b[0m                                 Traceback (most recent call last)",
      "Input \u001b[1;32mIn [15]\u001b[0m, in \u001b[0;36m<cell line: 1>\u001b[1;34m()\u001b[0m\n\u001b[1;32m----> 1\u001b[0m \u001b[43mtupla1\u001b[49m\n",
      "\u001b[1;31mNameError\u001b[0m: name 'tupla1' is not defined"
     ]
    }
   ],
   "source": [
    "tupla1"
   ]
  },
  {
   "cell_type": "code",
   "execution_count": 16,
   "id": "6a9cae4a",
   "metadata": {},
   "outputs": [],
   "source": [
    "# Criando uma tupla\n",
    "t2 = ('A', 'B', 'C')"
   ]
  },
  {
   "cell_type": "code",
   "execution_count": 17,
   "id": "0f9aab72",
   "metadata": {},
   "outputs": [
    {
     "data": {
      "text/plain": [
       "('A', 'B', 'C')"
      ]
     },
     "execution_count": 17,
     "metadata": {},
     "output_type": "execute_result"
    }
   ],
   "source": [
    "t2"
   ]
  },
  {
   "cell_type": "code",
   "execution_count": 18,
   "id": "38caa090",
   "metadata": {},
   "outputs": [
    {
     "ename": "TypeError",
     "evalue": "'tuple' object does not support item assignment",
     "output_type": "error",
     "traceback": [
      "\u001b[1;31m---------------------------------------------------------------------------\u001b[0m",
      "\u001b[1;31mTypeError\u001b[0m                                 Traceback (most recent call last)",
      "Input \u001b[1;32mIn [18]\u001b[0m, in \u001b[0;36m<cell line: 2>\u001b[1;34m()\u001b[0m\n\u001b[0;32m      1\u001b[0m \u001b[38;5;66;03m# Tuplas não suportam atrbuição de item\u001b[39;00m\n\u001b[1;32m----> 2\u001b[0m t2[\u001b[38;5;241m0\u001b[39m] \u001b[38;5;241m=\u001b[39m \u001b[38;5;124m'\u001b[39m\u001b[38;5;124mD\u001b[39m\u001b[38;5;124m'\u001b[39m\n",
      "\u001b[1;31mTypeError\u001b[0m: 'tuple' object does not support item assignment"
     ]
    }
   ],
   "source": [
    "# Tuplas não suportam atrbuição de item\n",
    "t2[0] = 'D'"
   ]
  },
  {
   "cell_type": "code",
   "execution_count": 20,
   "id": "505d4a01",
   "metadata": {},
   "outputs": [],
   "source": [
    "# Usando a função list() para converter uma tupla para uma lista\n",
    "lista_t2 = list(t2)"
   ]
  },
  {
   "cell_type": "code",
   "execution_count": 21,
   "id": "314eff8f",
   "metadata": {},
   "outputs": [
    {
     "data": {
      "text/plain": [
       "['A', 'B', 'C']"
      ]
     },
     "execution_count": 21,
     "metadata": {},
     "output_type": "execute_result"
    }
   ],
   "source": [
    "lista_t2"
   ]
  },
  {
   "cell_type": "code",
   "execution_count": 24,
   "id": "922ed8dd",
   "metadata": {},
   "outputs": [],
   "source": [
    "lista_t2.append('D')"
   ]
  },
  {
   "cell_type": "code",
   "execution_count": 25,
   "id": "226183a8",
   "metadata": {},
   "outputs": [],
   "source": [
    "# Usando a função  tuple() para converter uma lista para uma tupla\n",
    "t2 = tuple(lista_t2)"
   ]
  },
  {
   "cell_type": "code",
   "execution_count": 26,
   "id": "febc4c1d",
   "metadata": {},
   "outputs": [
    {
     "data": {
      "text/plain": [
       "('A', 'B', 'C', 'D', 'D')"
      ]
     },
     "execution_count": 26,
     "metadata": {},
     "output_type": "execute_result"
    }
   ],
   "source": [
    "t2"
   ]
  },
  {
   "cell_type": "markdown",
   "id": "95c2b2ac",
   "metadata": {},
   "source": [
    "## Fim"
   ]
  },
  {
   "cell_type": "code",
   "execution_count": null,
   "id": "c792cd85",
   "metadata": {},
   "outputs": [],
   "source": []
  }
 ],
 "metadata": {
  "kernelspec": {
   "display_name": "Python 3 (ipykernel)",
   "language": "python",
   "name": "python3"
  },
  "language_info": {
   "codemirror_mode": {
    "name": "ipython",
    "version": 3
   },
   "file_extension": ".py",
   "mimetype": "text/x-python",
   "name": "python",
   "nbconvert_exporter": "python",
   "pygments_lexer": "ipython3",
   "version": "3.9.12"
  }
 },
 "nbformat": 4,
 "nbformat_minor": 5
}
