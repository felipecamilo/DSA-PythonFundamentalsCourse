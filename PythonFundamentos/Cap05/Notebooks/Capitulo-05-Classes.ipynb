{
 "cells": [
  {
   "cell_type": "markdown",
   "id": "5c7cbe8f",
   "metadata": {},
   "source": [
    "# Python -- Fundamentos"
   ]
  },
  {
   "cell_type": "markdown",
   "id": "4651fa5c",
   "metadata": {},
   "source": [
    "## Classes"
   ]
  },
  {
   "cell_type": "code",
   "execution_count": 2,
   "id": "6c814d5c",
   "metadata": {},
   "outputs": [],
   "source": [
    "class Livro():\n",
    "    def __init__(self):\n",
    "        self.titulo = 'O Monge e o Executivo'\n",
    "        self.isbn = 9988888\n",
    "        print('Construtor chamado para criar um objeto desta classe')\n",
    "    \n",
    "    def imprime(self):\n",
    "        print('Foi  criado o livro %s e ISBN %d' %(self.titulo, self.isbn))\n",
    "        "
   ]
  },
  {
   "cell_type": "code",
   "execution_count": 3,
   "id": "b5194723",
   "metadata": {},
   "outputs": [
    {
     "name": "stdout",
     "output_type": "stream",
     "text": [
      "Construtor chamado para criar um objeto desta classe\n"
     ]
    }
   ],
   "source": [
    "# Criando uma instância \n",
    "Livro1 = Livro()"
   ]
  },
  {
   "cell_type": "code",
   "execution_count": 4,
   "id": "ea57b7f1",
   "metadata": {},
   "outputs": [
    {
     "data": {
      "text/plain": [
       "__main__.Livro"
      ]
     },
     "execution_count": 4,
     "metadata": {},
     "output_type": "execute_result"
    }
   ],
   "source": [
    "# Tipo  do Objeto Livro1\n",
    "type(Livro1)"
   ]
  },
  {
   "cell_type": "code",
   "execution_count": 5,
   "id": "70a5b1f9",
   "metadata": {},
   "outputs": [
    {
     "data": {
      "text/plain": [
       "'O Monge e o Executivo'"
      ]
     },
     "execution_count": 5,
     "metadata": {},
     "output_type": "execute_result"
    }
   ],
   "source": [
    "# Aributos do objeto Livro1\n",
    "Livro1.titulo"
   ]
  },
  {
   "cell_type": "code",
   "execution_count": 9,
   "id": "31c2df78",
   "metadata": {},
   "outputs": [
    {
     "data": {
      "text/plain": [
       "9988888"
      ]
     },
     "execution_count": 9,
     "metadata": {},
     "output_type": "execute_result"
    }
   ],
   "source": [
    "Livro1.isbn"
   ]
  },
  {
   "cell_type": "code",
   "execution_count": 10,
   "id": "fe1b1d02",
   "metadata": {},
   "outputs": [
    {
     "name": "stdout",
     "output_type": "stream",
     "text": [
      "Foi  criado o livro O Monge e o Executivo e ISBN 9988888\n"
     ]
    }
   ],
   "source": [
    "Livro1.imprime()"
   ]
  },
  {
   "cell_type": "code",
   "execution_count": 18,
   "id": "b74fb872",
   "metadata": {},
   "outputs": [],
   "source": [
    "# Criando a classe Livro com parâmetros no método construtor\n",
    "class Livro():\n",
    "    def __init__(self, titulo, isbn):\n",
    "        self.titulo = titulo\n",
    "        self.isbn = isbn\n",
    "        print('Construtor chamado para criar um objeto desta classe')\n",
    "    def imprime(self, titulo, isbn):\n",
    "        print('Este é o livro  %s e ISBN %d'%(titulo, isbn))"
   ]
  },
  {
   "cell_type": "code",
   "execution_count": 19,
   "id": "afc4401a",
   "metadata": {},
   "outputs": [
    {
     "name": "stdout",
     "output_type": "stream",
     "text": [
      "Construtor chamado para criar um objeto desta classe\n"
     ]
    }
   ],
   "source": [
    "# Criando o objeto Livro2 que é uma instância da classe Livro\n",
    "Livro2 = Livro('A Menina que Roubava Livros', 77886611)"
   ]
  },
  {
   "cell_type": "code",
   "execution_count": 20,
   "id": "08f8eb3d",
   "metadata": {},
   "outputs": [
    {
     "data": {
      "text/plain": [
       "'A Menina que Roubava Livros'"
      ]
     },
     "execution_count": 20,
     "metadata": {},
     "output_type": "execute_result"
    }
   ],
   "source": [
    "# Atributos do Livro2\n",
    "Livro2.titulo"
   ]
  },
  {
   "cell_type": "code",
   "execution_count": 21,
   "id": "8c607490",
   "metadata": {},
   "outputs": [
    {
     "data": {
      "text/plain": [
       "77886611"
      ]
     },
     "execution_count": 21,
     "metadata": {},
     "output_type": "execute_result"
    }
   ],
   "source": [
    "Livro2.isbn"
   ]
  },
  {
   "cell_type": "code",
   "execution_count": 22,
   "id": "74d22dcb",
   "metadata": {},
   "outputs": [
    {
     "name": "stdout",
     "output_type": "stream",
     "text": [
      "Este é o livro  A Menina que Roubava Livros e ISBN 77886611\n"
     ]
    }
   ],
   "source": [
    "# Método do objeto Livro2\n",
    "Livro2.imprime('A Menina que Roubava Livros', 77886611)"
   ]
  },
  {
   "cell_type": "code",
   "execution_count": 23,
   "id": "118766c1",
   "metadata": {},
   "outputs": [],
   "source": [
    "# Criando a classe cachorro\n",
    "class Cachorro():\n",
    "    def __init__(self, raca):\n",
    "        self.raca = raca\n",
    "        print('Construtor chamado para criar objeto desta classe')"
   ]
  },
  {
   "cell_type": "code",
   "execution_count": 24,
   "id": "2c01962c",
   "metadata": {},
   "outputs": [
    {
     "name": "stdout",
     "output_type": "stream",
     "text": [
      "Construtor chamado para criar objeto desta classe\n"
     ]
    }
   ],
   "source": [
    "# Criando um objeto a partir da classe cachorro\n",
    "Rex = Cachorro(raca='Labrador')"
   ]
  },
  {
   "cell_type": "code",
   "execution_count": 27,
   "id": "e9c740fd",
   "metadata": {},
   "outputs": [
    {
     "name": "stdout",
     "output_type": "stream",
     "text": [
      "Construtor chamado para criar objeto desta classe\n"
     ]
    }
   ],
   "source": [
    "Golias = Cachorro('Huskie')"
   ]
  },
  {
   "cell_type": "code",
   "execution_count": 28,
   "id": "0545016b",
   "metadata": {},
   "outputs": [
    {
     "data": {
      "text/plain": [
       "'Labrador'"
      ]
     },
     "execution_count": 28,
     "metadata": {},
     "output_type": "execute_result"
    }
   ],
   "source": [
    "Rex.raca"
   ]
  },
  {
   "cell_type": "code",
   "execution_count": 29,
   "id": "9e05b12e",
   "metadata": {},
   "outputs": [
    {
     "data": {
      "text/plain": [
       "'Huskie'"
      ]
     },
     "execution_count": 29,
     "metadata": {},
     "output_type": "execute_result"
    }
   ],
   "source": [
    "Golias.raca"
   ]
  },
  {
   "cell_type": "code",
   "execution_count": null,
   "id": "f8a323e1",
   "metadata": {},
   "outputs": [],
   "source": []
  }
 ],
 "metadata": {
  "kernelspec": {
   "display_name": "Python 3 (ipykernel)",
   "language": "python",
   "name": "python3"
  },
  "language_info": {
   "codemirror_mode": {
    "name": "ipython",
    "version": 3
   },
   "file_extension": ".py",
   "mimetype": "text/x-python",
   "name": "python",
   "nbconvert_exporter": "python",
   "pygments_lexer": "ipython3",
   "version": "3.9.12"
  }
 },
 "nbformat": 4,
 "nbformat_minor": 5
}
