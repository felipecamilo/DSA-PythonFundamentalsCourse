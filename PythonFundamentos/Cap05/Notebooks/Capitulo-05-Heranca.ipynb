{
 "cells": [
  {
   "cell_type": "markdown",
   "id": "dbb46c18",
   "metadata": {},
   "source": [
    "# Python -- Fundamentos"
   ]
  },
  {
   "cell_type": "markdown",
   "id": "c6b8827f",
   "metadata": {},
   "source": [
    "## Herança"
   ]
  },
  {
   "cell_type": "code",
   "execution_count": 2,
   "id": "ad7a3699",
   "metadata": {},
   "outputs": [],
   "source": [
    "# Criando a classe Animal - Super-classe\n",
    "class Animal():\n",
    "    \n",
    "    def __init__(self):\n",
    "        print('Animal criado')\n",
    "    \n",
    "    def Identif(self):\n",
    "        print('Animal')\n",
    "    def comer(self):\n",
    "        print('Comendo')"
   ]
  },
  {
   "cell_type": "code",
   "execution_count": 13,
   "id": "7c585b90",
   "metadata": {},
   "outputs": [],
   "source": [
    "# Criando a classe cachorro - Sub-classe\n",
    "class Cachorro(Animal):\n",
    "    \n",
    "    def __init__(self):\n",
    "        Animal.__init__(self)\n",
    "        print('Objeto Cachorro criado')\n",
    "        \n",
    "    def Identif(self):\n",
    "        print('Cachorro')\n",
    "    \n",
    "    def latir(self):\n",
    "        print('Au Au!!')"
   ]
  },
  {
   "cell_type": "code",
   "execution_count": 9,
   "id": "e61cf511",
   "metadata": {},
   "outputs": [
    {
     "name": "stdout",
     "output_type": "stream",
     "text": [
      "Animal criado\n",
      "Objeto Cachorro criado\n"
     ]
    }
   ],
   "source": [
    "# Criando um objeto\n",
    "rex = Cachorro()"
   ]
  },
  {
   "cell_type": "code",
   "execution_count": 10,
   "id": "69d76ab0",
   "metadata": {},
   "outputs": [
    {
     "name": "stdout",
     "output_type": "stream",
     "text": [
      "Cachorro\n"
     ]
    }
   ],
   "source": [
    "# Executando o método da classe Cachorro (sub-classe)\n",
    "rex.Identif()"
   ]
  },
  {
   "cell_type": "code",
   "execution_count": 11,
   "id": "22db847a",
   "metadata": {},
   "outputs": [
    {
     "name": "stdout",
     "output_type": "stream",
     "text": [
      "Comendo\n"
     ]
    }
   ],
   "source": [
    "# Executando o método da classe Animal ( Super-classe)\n",
    "rex.comer()"
   ]
  },
  {
   "cell_type": "code",
   "execution_count": 14,
   "id": "132428b3",
   "metadata": {},
   "outputs": [
    {
     "name": "stdout",
     "output_type": "stream",
     "text": [
      " Au Au!!\n"
     ]
    }
   ],
   "source": [
    "# Executando o método da classe Cachorro\n",
    "rex.latir()"
   ]
  },
  {
   "cell_type": "code",
   "execution_count": null,
   "id": "1931121c",
   "metadata": {},
   "outputs": [],
   "source": []
  }
 ],
 "metadata": {
  "kernelspec": {
   "display_name": "Python 3 (ipykernel)",
   "language": "python",
   "name": "python3"
  },
  "language_info": {
   "codemirror_mode": {
    "name": "ipython",
    "version": 3
   },
   "file_extension": ".py",
   "mimetype": "text/x-python",
   "name": "python",
   "nbconvert_exporter": "python",
   "pygments_lexer": "ipython3",
   "version": "3.9.12"
  }
 },
 "nbformat": 4,
 "nbformat_minor": 5
}
