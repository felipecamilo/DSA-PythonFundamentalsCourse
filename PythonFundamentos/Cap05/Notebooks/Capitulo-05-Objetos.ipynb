{
 "cells": [
  {
   "cell_type": "markdown",
   "id": "23dba41d",
   "metadata": {},
   "source": [
    "# Python -- Fundamentos"
   ]
  },
  {
   "cell_type": "markdown",
   "id": "d6d51eb3",
   "metadata": {},
   "source": [
    "## Objetos"
   ]
  },
  {
   "cell_type": "code",
   "execution_count": 1,
   "id": "328ec0ce",
   "metadata": {},
   "outputs": [],
   "source": [
    "# Criando uma lista\n",
    "lst_num = ['Data','Science','Academy','Nota',10,10]"
   ]
  },
  {
   "cell_type": "code",
   "execution_count": 2,
   "id": "c775733e",
   "metadata": {},
   "outputs": [
    {
     "data": {
      "text/plain": [
       "list"
      ]
     },
     "execution_count": 2,
     "metadata": {},
     "output_type": "execute_result"
    }
   ],
   "source": [
    "# A lista lst_num é um objeto, umas instância da classe lista em Pyhton\n",
    "type(lst_num)"
   ]
  },
  {
   "cell_type": "code",
   "execution_count": 3,
   "id": "31971e7a",
   "metadata": {},
   "outputs": [
    {
     "data": {
      "text/plain": [
       "2"
      ]
     },
     "execution_count": 3,
     "metadata": {},
     "output_type": "execute_result"
    }
   ],
   "source": [
    "lst_num.count(10)"
   ]
  },
  {
   "cell_type": "code",
   "execution_count": 4,
   "id": "42f95d91",
   "metadata": {},
   "outputs": [
    {
     "name": "stdout",
     "output_type": "stream",
     "text": [
      "<class 'int'>\n",
      "<class 'list'>\n",
      "<class 'tuple'>\n",
      "<class 'dict'>\n",
      "<class 'str'>\n"
     ]
    }
   ],
   "source": [
    "# Usamos a função type, para verificar o tipo de um objeto\n",
    "print(type(10))\n",
    "print(type([]))\n",
    "print(type(()))\n",
    "print(type({}))\n",
    "print(type('a'))"
   ]
  },
  {
   "cell_type": "code",
   "execution_count": 5,
   "id": "9205629f",
   "metadata": {},
   "outputs": [],
   "source": [
    "# Criando um novo tipo ded objeto chamado Carro\n",
    "class Carro(object):\n",
    "    pass\n",
    "# instância do Carro\n",
    "palio = Carro()"
   ]
  },
  {
   "cell_type": "code",
   "execution_count": 6,
   "id": "cfc5a705",
   "metadata": {},
   "outputs": [
    {
     "name": "stdout",
     "output_type": "stream",
     "text": [
      "<class '__main__.Carro'>\n"
     ]
    }
   ],
   "source": [
    "print(type(palio))"
   ]
  },
  {
   "cell_type": "code",
   "execution_count": 7,
   "id": "870418a6",
   "metadata": {},
   "outputs": [],
   "source": [
    "# Criando classe\n",
    "class Estudante:\n",
    "    def __init__(self,nome,idade, nota):\n",
    "        self.nome = nome\n",
    "        self.idade = idade\n",
    "        self.nota = nota"
   ]
  },
  {
   "cell_type": "code",
   "execution_count": 8,
   "id": "efc3a31a",
   "metadata": {},
   "outputs": [],
   "source": [
    "# Criando um objeto chamado Estudante1\n",
    "Estudante1 = Estudante('Pelé',12,9.5)"
   ]
  },
  {
   "cell_type": "code",
   "execution_count": 9,
   "id": "aa6323ef",
   "metadata": {},
   "outputs": [
    {
     "data": {
      "text/plain": [
       "'Pelé'"
      ]
     },
     "execution_count": 9,
     "metadata": {},
     "output_type": "execute_result"
    }
   ],
   "source": [
    "# Atributo a classe Estudante utilado por cada  objeto a partir dessa  classe\n",
    "Estudante1.nome"
   ]
  },
  {
   "cell_type": "code",
   "execution_count": 10,
   "id": "9f6b2289",
   "metadata": {},
   "outputs": [
    {
     "data": {
      "text/plain": [
       "12"
      ]
     },
     "execution_count": 10,
     "metadata": {},
     "output_type": "execute_result"
    }
   ],
   "source": [
    "Estudante1.idade"
   ]
  },
  {
   "cell_type": "code",
   "execution_count": 11,
   "id": "c8491fc1",
   "metadata": {},
   "outputs": [
    {
     "data": {
      "text/plain": [
       "9.5"
      ]
     },
     "execution_count": 11,
     "metadata": {},
     "output_type": "execute_result"
    }
   ],
   "source": [
    "Estudante1.nota"
   ]
  },
  {
   "cell_type": "code",
   "execution_count": 15,
   "id": "948a6516",
   "metadata": {},
   "outputs": [],
   "source": [
    "# Criando uma classe\n",
    "class Funcionarios:\n",
    "    def __init__ (self, nome, salario):\n",
    "        self.nome = nome\n",
    "        self.salario = salario\n",
    "        \n",
    "    def listFunc(self):\n",
    "        print('O nome do funcionário é ' + self.nome + ' e o salário é R$' +str(self.salario))"
   ]
  },
  {
   "cell_type": "code",
   "execution_count": 16,
   "id": "0541f909",
   "metadata": {},
   "outputs": [],
   "source": [
    "# Criando um objeto chamado Func1 a partir dda classe Funcionarios\n",
    "Func1 = Funcionarios('Obama', 20000)"
   ]
  },
  {
   "cell_type": "code",
   "execution_count": 17,
   "id": "6ae3f8a6",
   "metadata": {},
   "outputs": [
    {
     "name": "stdout",
     "output_type": "stream",
     "text": [
      "O nome do funcionário é Obama e o salário é R$20000\n"
     ]
    }
   ],
   "source": [
    "# Usanddo o método da classe\n",
    "Func1.listFunc()"
   ]
  },
  {
   "cell_type": "code",
   "execution_count": 18,
   "id": "5e27c3b2",
   "metadata": {},
   "outputs": [
    {
     "name": "stdout",
     "output_type": "stream",
     "text": [
      "**** Usando atributos ****\n"
     ]
    }
   ],
   "source": [
    "print('**** Usando atributos ****')"
   ]
  },
  {
   "cell_type": "code",
   "execution_count": 23,
   "id": "c4f821c7",
   "metadata": {},
   "outputs": [
    {
     "data": {
      "text/plain": [
       "True"
      ]
     },
     "execution_count": 23,
     "metadata": {},
     "output_type": "execute_result"
    }
   ],
   "source": [
    "hasattr(Func1, 'nome')"
   ]
  },
  {
   "cell_type": "code",
   "execution_count": 24,
   "id": "08869640",
   "metadata": {},
   "outputs": [
    {
     "data": {
      "text/plain": [
       "True"
      ]
     },
     "execution_count": 24,
     "metadata": {},
     "output_type": "execute_result"
    }
   ],
   "source": [
    "hasattr(Func1, 'salario')"
   ]
  },
  {
   "cell_type": "code",
   "execution_count": 25,
   "id": "29e37c2a",
   "metadata": {},
   "outputs": [],
   "source": [
    "setattr(Func1, 'salario', 4500)"
   ]
  },
  {
   "cell_type": "code",
   "execution_count": 26,
   "id": "9a2b6c82",
   "metadata": {},
   "outputs": [
    {
     "data": {
      "text/plain": [
       "True"
      ]
     },
     "execution_count": 26,
     "metadata": {},
     "output_type": "execute_result"
    }
   ],
   "source": [
    "hasattr(Func1, 'salario')"
   ]
  },
  {
   "cell_type": "code",
   "execution_count": 27,
   "id": "d693bfc9",
   "metadata": {},
   "outputs": [
    {
     "data": {
      "text/plain": [
       "4500"
      ]
     },
     "execution_count": 27,
     "metadata": {},
     "output_type": "execute_result"
    }
   ],
   "source": [
    "getattr(Func1, 'salario')"
   ]
  },
  {
   "cell_type": "code",
   "execution_count": 28,
   "id": "30497fe4",
   "metadata": {},
   "outputs": [],
   "source": [
    "delattr(Func1, 'salario')"
   ]
  },
  {
   "cell_type": "code",
   "execution_count": 29,
   "id": "b51545e5",
   "metadata": {},
   "outputs": [
    {
     "data": {
      "text/plain": [
       "False"
      ]
     },
     "execution_count": 29,
     "metadata": {},
     "output_type": "execute_result"
    }
   ],
   "source": [
    "hasattr(Func1, 'salario')"
   ]
  },
  {
   "cell_type": "code",
   "execution_count": null,
   "id": "0b40f00c",
   "metadata": {},
   "outputs": [],
   "source": []
  }
 ],
 "metadata": {
  "kernelspec": {
   "display_name": "Python 3 (ipykernel)",
   "language": "python",
   "name": "python3"
  },
  "language_info": {
   "codemirror_mode": {
    "name": "ipython",
    "version": 3
   },
   "file_extension": ".py",
   "mimetype": "text/x-python",
   "name": "python",
   "nbconvert_exporter": "python",
   "pygments_lexer": "ipython3",
   "version": "3.9.12"
  }
 },
 "nbformat": 4,
 "nbformat_minor": 5
}
